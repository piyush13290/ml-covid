{
 "cells": [
  {
   "cell_type": "markdown",
   "metadata": {},
   "source": [
    "## 3. Model Fitting and Evaluation\n",
    "To select the best model, we have tested various models on two outcome variables (Confirmed Cases and Deaths).  \n",
    "3.1 : Outcome Variable - Confirmed Cases  \n",
    "3.1.1 : Linear Models: Lasso, Ridge and Linear Regression  \n",
    "3.1.2 : K - Fold cross Validation  \n",
    "3.1.3 : Decision Tress Regression  \n",
    "3.1.4 : Random Forest Regression  \n",
    "3.1.5 : Conclusion  \n",
    "3.2 : Outcome Variable - Deaths   \n",
    "3.2.1 : Linear Models: Lasso, Ridge and Linear Regression  \n",
    "3.2.2 : K - Fold cross Validation  \n",
    "3.2.3 : Decision Tress Regression  \n",
    "3.2.4 : Random Forest Regression  \n",
    "3.2.5 : Conclusion  \n",
    "\n",
    "## 4. Potential policy outcomes  \n",
    "4.1 : predicting Deaths with the most strict vs most loose lockdown policy"
   ]
  },
  {
   "cell_type": "code",
   "execution_count": 1,
   "metadata": {},
   "outputs": [],
   "source": [
    "# setting up the notebook\n",
    "import pipeline\n",
    "import pandas as pd\n",
    "import numpy as np\n",
    "pd.set_option('display.float_format', lambda x: '%.3f' % x)"
   ]
  },
  {
   "cell_type": "markdown",
   "metadata": {},
   "source": [
    "### 3.1 : Outcome Variable - Confirmed Cases\n",
    "#### 3.1.1 : Linear Models: Lasso, Ridge and Linear Regression"
   ]
  },
  {
   "cell_type": "code",
   "execution_count": 2,
   "metadata": {},
   "outputs": [
    {
     "name": "stdout",
     "output_type": "stream",
     "text": [
      "Success: Features match\n",
      "Success: No NAs remain\n"
     ]
    }
   ],
   "source": [
    "#setting up the dataframe \n",
    "filepath = '../data/covid_df_protocol_3.pkl'\n",
    "df = pd.read_pickle(filepath)\n",
    "df['log_cases'] = np.log(df['Confirmed Cases'] + 1)\n",
    "# getting train and test dataframes\n",
    "df_train, df_test = pipeline.split_and_scale_on_last_weeks(df, 2)\n",
    "#sanity chceck\n",
    "pipeline.sanity_check(df_train, df_test)\n",
    "# Getting Features and outcome variables\n",
    "X_train, y_train = pipeline.divide_target_and_features(df_train, 'log_cases')\n",
    "X_test, y_test = pipeline.divide_target_and_features(df_test, 'log_cases')"
   ]
  },
  {
   "cell_type": "code",
   "execution_count": 3,
   "metadata": {},
   "outputs": [
    {
     "name": "stdout",
     "output_type": "stream",
     "text": [
      "                           Feature  Coefficient\n",
      "0                        Intercept        2.486\n",
      "8             EconomicSupportIndex        0.170\n",
      "19   Days Elapsed Since First Case        0.065\n",
      "18                       Day Count        0.003\n",
      "149            Country_Switzerland        0.000\n",
      "..                             ...          ...\n",
      "77                  Country_Guinea        0.000\n",
      "78                   Country_Haiti       -0.000\n",
      "79                Country_Honduras       -0.000\n",
      "80                 Country_Hungary        0.000\n",
      "215         H3_Contact tracing_2.0       -0.000\n",
      "\n",
      "[216 rows x 2 columns]\n"
     ]
    },
    {
     "data": {
      "image/png": "[encoded data removed]",
      "text/plain": [
       "<Figure size 432x288 with 1 Axes>"
      ]
     },
     "metadata": {
      "needs_background": "light"
     },
     "output_type": "display_data"
    },
    {
     "name": "stdout",
     "output_type": "stream",
     "text": [
      "Lasso: Features with highest magnitude                                coefficients in absolute value\n",
      "                           Feature  Coefficient\n",
      "0                        Intercept        2.486\n",
      "8             EconomicSupportIndex        0.170\n",
      "19   Days Elapsed Since First Case        0.065\n",
      "18                       Day Count        0.003\n",
      "149            Country_Switzerland        0.000\n",
      "139              Country_Singapore       -0.000\n",
      "140        Country_Slovak Republic        0.000\n",
      "141               Country_Slovenia        0.000\n",
      "142           Country_South Africa        0.000\n",
      "143            Country_South Korea        0.000\n",
      "\n",
      "Bias: 2849425877.92\n",
      "Root Mean squared error: 164190.72\n",
      "RSS: 41004020172359.02\n",
      "Variance score: -0.02\n",
      "\n",
      "R2 score: 0.08\n",
      "\n",
      "                       Feature  Coefficient\n",
      "0                    Intercept        7.789\n",
      "110           Country_Mongolia       -2.640\n",
      "143        Country_South Korea       -2.539\n",
      "84                Country_Iran        2.166\n",
      "154        Country_Timor-Leste       -1.844\n",
      "..                         ...          ...\n",
      "52    Country_Congo (Kinshasa)        0.006\n",
      "73             Country_Germany       -0.006\n",
      "4    H5_Investment in vaccines        0.004\n",
      "2     E4_International support        0.003\n",
      "14           Physicians per 1k       -0.002\n",
      "\n",
      "[216 rows x 2 columns]\n"
     ]
    },
    {
     "data": {
      "image/png": "[encoded data removed]",
      "text/plain": [
       "<Figure size 432x288 with 1 Axes>"
      ]
     },
     "metadata": {
      "needs_background": "light"
     },
     "output_type": "display_data"
    },
    {
     "name": "stdout",
     "output_type": "stream",
     "text": [
      "Ridge: Features with highest magnitude                                coefficients in absolute value\n",
      "                   Feature  Coefficient\n",
      "0                Intercept        7.789\n",
      "110       Country_Mongolia       -2.640\n",
      "143    Country_South Korea       -2.539\n",
      "84            Country_Iran        2.166\n",
      "154    Country_Timor-Leste       -1.844\n",
      "88           Country_Italy        1.831\n",
      "203  E1_Income support_2.0        1.787\n",
      "114          Country_Nepal       -1.693\n",
      "201  E1_Income support_0.0       -1.673\n",
      "166        Country_Vietnam       -1.638\n",
      "\n",
      "Bias: 2849394309.84\n",
      "Root Mean squared error: 188761.96\n",
      "RSS: 54194866677466.78\n",
      "Variance score: -0.02\n",
      "\n",
      "R2 score: -0.22\n",
      "\n",
      "                       Feature  Coefficient\n",
      "7       ContainmentHealthIndex     -756.408\n",
      "5              StringencyIndex      424.611\n",
      "6      GovernmentResponseIndex      295.593\n",
      "212      H2_Testing policy_3.0       64.837\n",
      "209      H2_Testing policy_0.0      -64.264\n",
      "..                         ...          ...\n",
      "13             Life Expectancy       -0.023\n",
      "158             Country_Uganda        0.016\n",
      "4    H5_Investment in vaccines        0.004\n",
      "18                   Day Count       -0.004\n",
      "2     E4_International support        0.003\n",
      "\n",
      "[216 rows x 2 columns]\n"
     ]
    },
    {
     "data": {
      "image/png": "[encoded data removed]",
      "text/plain": [
       "<Figure size 432x288 with 1 Axes>"
      ]
     },
     "metadata": {
      "needs_background": "light"
     },
     "output_type": "display_data"
    },
    {
     "name": "stdout",
     "output_type": "stream",
     "text": [
      "Linear Regression: Features with highest magnitude                                coefficients in absolute value\n",
      "                     Feature  Coefficient\n",
      "7     ContainmentHealthIndex     -756.408\n",
      "5            StringencyIndex      424.611\n",
      "6    GovernmentResponseIndex      295.593\n",
      "212    H2_Testing policy_3.0       64.837\n",
      "209    H2_Testing policy_0.0      -64.264\n",
      "213   H3_Contact tracing_0.0      -64.236\n",
      "215   H3_Contact tracing_2.0       64.036\n",
      "0                  Intercept       50.549\n",
      "8       EconomicSupportIndex      -42.113\n",
      "210    H2_Testing policy_1.0      -21.880\n",
      "\n",
      "Bias: 2849394316.39\n",
      "Root Mean squared error: 197947.95\n",
      "RSS: 59597940000766.59\n",
      "Variance score: -0.02\n",
      "\n",
      "R2 score: -0.34\n",
      "\n"
     ]
    }
   ],
   "source": [
    "# running Linear models \n",
    "results_dict = pipeline.train_and_evaluate(X_train, y_train, X_test, y_test)"
   ]
  },
  {
   "cell_type": "code",
   "execution_count": 4,
   "metadata": {},
   "outputs": [
    {
     "data": {
      "text/html": [
       "<div>\n",
       "<style scoped>\n",
       "    .dataframe tbody tr th:only-of-type {\n",
       "        vertical-align: middle;\n",
       "    }\n",
       "\n",
       "    .dataframe tbody tr th {\n",
       "        vertical-align: top;\n",
       "    }\n",
       "\n",
       "    .dataframe thead th {\n",
       "        text-align: right;\n",
       "    }\n",
       "</style>\n",
       "<table border=\"1\" class=\"dataframe\">\n",
       "  <thead>\n",
       "    <tr style=\"text-align: right;\">\n",
       "      <th></th>\n",
       "      <th>Lasso</th>\n",
       "      <th>Ridge</th>\n",
       "      <th>Linear Regression</th>\n",
       "    </tr>\n",
       "    <tr>\n",
       "      <th>metrics</th>\n",
       "      <th></th>\n",
       "      <th></th>\n",
       "      <th></th>\n",
       "    </tr>\n",
       "  </thead>\n",
       "  <tbody>\n",
       "    <tr>\n",
       "      <th>Bias</th>\n",
       "      <td>2849425877.923</td>\n",
       "      <td>2849394309.835</td>\n",
       "      <td>2849394316.385</td>\n",
       "    </tr>\n",
       "    <tr>\n",
       "      <th>RMSE</th>\n",
       "      <td>164190.722</td>\n",
       "      <td>188761.956</td>\n",
       "      <td>197947.954</td>\n",
       "    </tr>\n",
       "    <tr>\n",
       "      <th>RSS</th>\n",
       "      <td>41004020172359.023</td>\n",
       "      <td>54194866677466.781</td>\n",
       "      <td>59597940000766.586</td>\n",
       "    </tr>\n",
       "    <tr>\n",
       "      <th>Variance</th>\n",
       "      <td>-0.018</td>\n",
       "      <td>-0.018</td>\n",
       "      <td>-0.018</td>\n",
       "    </tr>\n",
       "    <tr>\n",
       "      <th>R2</th>\n",
       "      <td>0.075</td>\n",
       "      <td>-0.222</td>\n",
       "      <td>-0.344</td>\n",
       "    </tr>\n",
       "  </tbody>\n",
       "</table>\n",
       "</div>"
      ],
      "text/plain": [
       "                      Lasso              Ridge  Linear Regression\n",
       "metrics                                                          \n",
       "Bias         2849425877.923     2849394309.835     2849394316.385\n",
       "RMSE             164190.722         188761.956         197947.954\n",
       "RSS      41004020172359.023 54194866677466.781 59597940000766.586\n",
       "Variance             -0.018             -0.018             -0.018\n",
       "R2                    0.075             -0.222             -0.344"
      ]
     },
     "execution_count": 4,
     "metadata": {},
     "output_type": "execute_result"
    }
   ],
   "source": [
    "# comparing the metrics for all three models\n",
    "rs = pd.DataFrame(results_dict) \n",
    "rs['metrics']= ['Bias','RMSE','RSS','Variance','R2']\n",
    "rs = rs.set_index('metrics')\n",
    "rs"
   ]
  },
  {
   "cell_type": "code",
   "execution_count": 5,
   "metadata": {},
   "outputs": [
    {
     "data": {
      "text/html": [
       "<div>\n",
       "<style scoped>\n",
       "    .dataframe tbody tr th:only-of-type {\n",
       "        vertical-align: middle;\n",
       "    }\n",
       "\n",
       "    .dataframe tbody tr th {\n",
       "        vertical-align: top;\n",
       "    }\n",
       "\n",
       "    .dataframe thead th {\n",
       "        text-align: right;\n",
       "    }\n",
       "</style>\n",
       "<table border=\"1\" class=\"dataframe\">\n",
       "  <thead>\n",
       "    <tr style=\"text-align: right;\">\n",
       "      <th></th>\n",
       "      <th>Lasso</th>\n",
       "      <th>Ridge</th>\n",
       "      <th>Linear Regression</th>\n",
       "    </tr>\n",
       "    <tr>\n",
       "      <th>outcome</th>\n",
       "      <th></th>\n",
       "      <th></th>\n",
       "      <th></th>\n",
       "    </tr>\n",
       "  </thead>\n",
       "  <tbody>\n",
       "    <tr>\n",
       "      <th>Confirmed Cases</th>\n",
       "      <td>164190.722</td>\n",
       "      <td>188761.956</td>\n",
       "      <td>197947.954</td>\n",
       "    </tr>\n",
       "  </tbody>\n",
       "</table>\n",
       "</div>"
      ],
      "text/plain": [
       "                     Lasso      Ridge  Linear Regression\n",
       "outcome                                                 \n",
       "Confirmed Cases 164190.722 188761.956         197947.954"
      ]
     },
     "execution_count": 5,
     "metadata": {},
     "output_type": "execute_result"
    }
   ],
   "source": [
    "## creating an evaluation matrix (RMSE values) for Confirmed Cases: \n",
    "\n",
    "Evalution_RMSE = rs[rs.index==\"RMSE\"].copy()\n",
    "Evalution_RMSE['outcome'] = ['Confirmed Cases']\n",
    "Evalution_RMSE = Evalution_RMSE.set_index('outcome')\n",
    "Evalution_RMSE"
   ]
  },
  {
   "cell_type": "markdown",
   "metadata": {},
   "source": [
    "### 3.1.2 : K - Fold cross Validation"
   ]
  },
  {
   "attachments": {
    "README.png": {
     "image/png": "[encoded data removed]"
    }
   },
   "cell_type": "markdown",
   "metadata": {},
   "source": [
    "#### Time Series Nested Cross Validation\n",
    "\n",
    "Time series Nested Cross Validation is carried out with the following approach: \n",
    "\n",
    "![README.png](attachment:README.png)"
   ]
  },
  {
   "cell_type": "code",
   "execution_count": 6,
   "metadata": {
    "scrolled": true
   },
   "outputs": [
    {
     "name": "stdout",
     "output_type": "stream",
     "text": [
      "Cutting dataframe on date: 2020-06-02\n",
      "Success: Features match\n",
      "Success: No NAs remain\n",
      "                           Feature  Coefficient\n",
      "0                        Intercept        2.486\n",
      "8             EconomicSupportIndex        0.170\n",
      "19   Days Elapsed Since First Case        0.065\n",
      "18                       Day Count        0.003\n",
      "149            Country_Switzerland        0.000\n",
      "..                             ...          ...\n",
      "77                  Country_Guinea        0.000\n",
      "78                   Country_Haiti       -0.000\n",
      "79                Country_Honduras       -0.000\n",
      "80                 Country_Hungary        0.000\n",
      "215         H3_Contact tracing_2.0       -0.000\n",
      "\n",
      "[216 rows x 2 columns]\n"
     ]
    },
    {
     "data": {
      "image/png": "[encoded data removed]",
      "text/plain": [
       "<Figure size 432x288 with 1 Axes>"
      ]
     },
     "metadata": {
      "needs_background": "light"
     },
     "output_type": "display_data"
    },
    {
     "name": "stdout",
     "output_type": "stream",
     "text": [
      "Lasso: Features with highest magnitude                                coefficients in absolute value\n",
      "                           Feature  Coefficient\n",
      "0                        Intercept        2.486\n",
      "8             EconomicSupportIndex        0.170\n",
      "19   Days Elapsed Since First Case        0.065\n",
      "18                       Day Count        0.003\n",
      "149            Country_Switzerland        0.000\n",
      "139              Country_Singapore       -0.000\n",
      "140        Country_Slovak Republic        0.000\n",
      "141               Country_Slovenia        0.000\n",
      "142           Country_South Africa        0.000\n",
      "143            Country_South Korea        0.000\n",
      "\n",
      "Bias: 2849425877.92\n",
      "Root Mean squared error: 164190.72\n",
      "RSS: 41004020172359.02\n",
      "Variance score: -0.02\n",
      "\n",
      "R2 score: 0.08\n",
      "\n",
      "                       Feature  Coefficient\n",
      "0                    Intercept        7.789\n",
      "110           Country_Mongolia       -2.640\n",
      "143        Country_South Korea       -2.539\n",
      "84                Country_Iran        2.166\n",
      "154        Country_Timor-Leste       -1.844\n",
      "..                         ...          ...\n",
      "52    Country_Congo (Kinshasa)        0.006\n",
      "73             Country_Germany       -0.006\n",
      "4    H5_Investment in vaccines        0.004\n",
      "2     E4_International support        0.003\n",
      "14           Physicians per 1k       -0.002\n",
      "\n",
      "[216 rows x 2 columns]\n"
     ]
    },
    {
     "data": {
      "image/png": "[encoded data removed]",
      "text/plain": [
       "<Figure size 432x288 with 1 Axes>"
      ]
     },
     "metadata": {
      "needs_background": "light"
     },
     "output_type": "display_data"
    },
    {
     "name": "stdout",
     "output_type": "stream",
     "text": [
      "Ridge: Features with highest magnitude                                coefficients in absolute value\n",
      "                   Feature  Coefficient\n",
      "0                Intercept        7.789\n",
      "110       Country_Mongolia       -2.640\n",
      "143    Country_South Korea       -2.539\n",
      "84            Country_Iran        2.166\n",
      "154    Country_Timor-Leste       -1.844\n",
      "88           Country_Italy        1.831\n",
      "203  E1_Income support_2.0        1.787\n",
      "114          Country_Nepal       -1.693\n",
      "201  E1_Income support_0.0       -1.673\n",
      "166        Country_Vietnam       -1.638\n",
      "\n",
      "Bias: 2849394309.84\n",
      "Root Mean squared error: 188761.96\n",
      "RSS: 54194866677466.78\n",
      "Variance score: -0.02\n",
      "\n",
      "R2 score: -0.22\n",
      "\n",
      "                       Feature  Coefficient\n",
      "7       ContainmentHealthIndex     -756.408\n",
      "5              StringencyIndex      424.611\n",
      "6      GovernmentResponseIndex      295.593\n",
      "212      H2_Testing policy_3.0       64.837\n",
      "209      H2_Testing policy_0.0      -64.264\n",
      "..                         ...          ...\n",
      "13             Life Expectancy       -0.023\n",
      "158             Country_Uganda        0.016\n",
      "4    H5_Investment in vaccines        0.004\n",
      "18                   Day Count       -0.004\n",
      "2     E4_International support        0.003\n",
      "\n",
      "[216 rows x 2 columns]\n"
     ]
    },
    {
     "data": {
      "image/png": "[encoded data removed]",
      "text/plain": [
       "<Figure size 432x288 with 1 Axes>"
      ]
     },
     "metadata": {
      "needs_background": "light"
     },
     "output_type": "display_data"
    },
    {
     "name": "stdout",
     "output_type": "stream",
     "text": [
      "Linear Regression: Features with highest magnitude                                coefficients in absolute value\n",
      "                     Feature  Coefficient\n",
      "7     ContainmentHealthIndex     -756.408\n",
      "5            StringencyIndex      424.611\n",
      "6    GovernmentResponseIndex      295.593\n",
      "212    H2_Testing policy_3.0       64.837\n",
      "209    H2_Testing policy_0.0      -64.264\n",
      "213   H3_Contact tracing_0.0      -64.236\n",
      "215   H3_Contact tracing_2.0       64.036\n",
      "0                  Intercept       50.549\n",
      "8       EconomicSupportIndex      -42.113\n",
      "210    H2_Testing policy_1.0      -21.880\n",
      "\n",
      "Bias: 2849394316.39\n",
      "Root Mean squared error: 197947.95\n",
      "RSS: 59597940000766.59\n",
      "Variance score: -0.02\n",
      "\n",
      "R2 score: -0.34\n",
      "\n",
      "Cutting dataframe on date: 2020-05-26\n",
      "Success: Features match\n",
      "Success: No NAs remain\n",
      "                           Feature  Coefficient\n",
      "0                        Intercept        2.400\n",
      "8             EconomicSupportIndex        0.215\n",
      "19   Days Elapsed Since First Case        0.064\n",
      "18                       Day Count        0.005\n",
      "150                 Country_Sweden       -0.000\n",
      "..                             ...          ...\n",
      "78                  Country_Guinea       -0.000\n",
      "79                   Country_Haiti       -0.000\n",
      "80                Country_Honduras       -0.000\n",
      "81                 Country_Hungary        0.000\n",
      "217         H3_Contact tracing_2.0       -0.000\n",
      "\n",
      "[218 rows x 2 columns]\n"
     ]
    },
    {
     "data": {
      "image/png": "[encoded data removed]",
      "text/plain": [
       "<Figure size 432x288 with 1 Axes>"
      ]
     },
     "metadata": {
      "needs_background": "light"
     },
     "output_type": "display_data"
    },
    {
     "name": "stdout",
     "output_type": "stream",
     "text": [
      "Lasso: Features with highest magnitude                                coefficients in absolute value\n",
      "                           Feature  Coefficient\n",
      "0                        Intercept        2.400\n",
      "8             EconomicSupportIndex        0.215\n",
      "19   Days Elapsed Since First Case        0.064\n",
      "18                       Day Count        0.005\n",
      "150                 Country_Sweden       -0.000\n",
      "140           Country_Sierra Leone        0.000\n",
      "141              Country_Singapore       -0.000\n",
      "142        Country_Slovak Republic        0.000\n",
      "143               Country_Slovenia        0.000\n",
      "144           Country_South Africa        0.000\n",
      "\n",
      "Bias: 2091177956.63\n",
      "Root Mean squared error: 132605.86\n",
      "RSS: 36276439379126.35\n",
      "Variance score: -0.02\n",
      "\n",
      "R2 score: 0.05\n",
      "\n",
      "                       Feature  Coefficient\n",
      "0                    Intercept        7.894\n",
      "85                Country_Iran        2.065\n",
      "116              Country_Nepal       -1.959\n",
      "205      E1_Income support_2.0        1.809\n",
      "31             Country_Belarus        1.746\n",
      "..                         ...          ...\n",
      "18                   Day Count       -0.006\n",
      "4    H5_Investment in vaccines        0.004\n",
      "2     E4_International support        0.003\n",
      "99             Country_Lesotho        0.001\n",
      "11               Share Pop 65+        0.000\n",
      "\n",
      "[218 rows x 2 columns]\n"
     ]
    },
    {
     "data": {
      "image/png": "[encoded data removed]",
      "text/plain": [
       "<Figure size 432x288 with 1 Axes>"
      ]
     },
     "metadata": {
      "needs_background": "light"
     },
     "output_type": "display_data"
    },
    {
     "name": "stdout",
     "output_type": "stream",
     "text": [
      "Ridge: Features with highest magnitude                                coefficients in absolute value\n",
      "                         Feature  Coefficient\n",
      "0                      Intercept        7.894\n",
      "85                  Country_Iran        2.065\n",
      "116                Country_Nepal       -1.959\n",
      "205        E1_Income support_2.0        1.809\n",
      "31               Country_Belarus        1.746\n",
      "203        E1_Income support_0.0       -1.689\n",
      "206  E2_Debt/contract relief_0.0       -1.531\n",
      "112             Country_Mongolia       -1.471\n",
      "168              Country_Vietnam       -1.438\n",
      "83                 Country_India       -1.437\n",
      "\n",
      "Bias: 2091150601.02\n",
      "Root Mean squared error: 166830.59\n",
      "RSS: 57418336002650.12\n",
      "Variance score: -0.02\n",
      "\n",
      "R2 score: -0.50\n",
      "\n",
      "                                      Feature     Coefficient\n",
      "0                                   Intercept 26265030876.604\n",
      "195  C7_Restrictions on internal movement_0.0 -7438658802.540\n",
      "197  C7_Restrictions on internal movement_2.0 -7438658801.370\n",
      "196  C7_Restrictions on internal movement_1.0 -7438658801.318\n",
      "172                     C1_School closing_0.0 -5478934996.300\n",
      "..                                        ...             ...\n",
      "209       H1_Public information campaigns_1.0           0.230\n",
      "1                          E3_Fiscal measures           0.035\n",
      "3       H4_Emergency investment in healthcare          -0.026\n",
      "4                   H5_Investment in vaccines           0.004\n",
      "2                    E4_International support           0.003\n",
      "\n",
      "[218 rows x 2 columns]\n"
     ]
    },
    {
     "data": {
      "image/png": "[encoded data removed]",
      "text/plain": [
       "<Figure size 432x288 with 1 Axes>"
      ]
     },
     "metadata": {
      "needs_background": "light"
     },
     "output_type": "display_data"
    },
    {
     "name": "stdout",
     "output_type": "stream",
     "text": [
      "Linear Regression: Features with highest magnitude                                coefficients in absolute value\n",
      "                                      Feature     Coefficient\n",
      "0                                   Intercept 26265030876.604\n",
      "195  C7_Restrictions on internal movement_0.0 -7438658802.540\n",
      "197  C7_Restrictions on internal movement_2.0 -7438658801.370\n",
      "196  C7_Restrictions on internal movement_1.0 -7438658801.318\n",
      "172                     C1_School closing_0.0 -5478934996.300\n",
      "175                     C1_School closing_3.0 -5478934994.649\n",
      "174                     C1_School closing_2.0 -5478934994.616\n",
      "173                     C1_School closing_1.0 -5478934994.085\n",
      "203                     E1_Income support_0.0 -4143437537.658\n",
      "204                     E1_Income support_1.0 -4143437536.060\n",
      "\n",
      "Bias: 2091150538.86\n",
      "Root Mean squared error: 172220.27\n",
      "RSS: 61188214563059.72\n",
      "Variance score: -0.02\n",
      "\n",
      "R2 score: -0.60\n",
      "\n",
      "Cutting dataframe on date: 2020-05-19\n",
      "Success: Features match\n",
      "Success: No NAs remain\n",
      "                           Feature  Coefficient\n",
      "0                        Intercept        2.317\n",
      "8             EconomicSupportIndex        0.267\n",
      "19   Days Elapsed Since First Case        0.062\n",
      "18                       Day Count        0.006\n",
      "150                 Country_Sweden       -0.000\n",
      "..                             ...          ...\n",
      "78                  Country_Guinea       -0.000\n",
      "79                   Country_Haiti       -0.000\n",
      "80                Country_Honduras       -0.000\n",
      "81                 Country_Hungary        0.000\n",
      "217         H3_Contact tracing_2.0       -0.000\n",
      "\n",
      "[218 rows x 2 columns]\n"
     ]
    },
    {
     "data": {
      "image/png": "[encoded data removed]",
      "text/plain": [
       "<Figure size 432x288 with 1 Axes>"
      ]
     },
     "metadata": {
      "needs_background": "light"
     },
     "output_type": "display_data"
    },
    {
     "name": "stdout",
     "output_type": "stream",
     "text": [
      "Lasso: Features with highest magnitude                                coefficients in absolute value\n",
      "                           Feature  Coefficient\n",
      "0                        Intercept        2.317\n",
      "8             EconomicSupportIndex        0.267\n",
      "19   Days Elapsed Since First Case        0.062\n",
      "18                       Day Count        0.006\n",
      "150                 Country_Sweden       -0.000\n",
      "140           Country_Sierra Leone        0.000\n",
      "141              Country_Singapore       -0.000\n",
      "142        Country_Slovak Republic        0.000\n",
      "143               Country_Slovenia        0.000\n",
      "144           Country_South Africa        0.000\n",
      "\n",
      "Bias: 1452587543.82\n",
      "Root Mean squared error: 118913.04\n",
      "RSS: 29821914472246.09\n",
      "Variance score: -0.02\n",
      "\n",
      "R2 score: 0.03\n",
      "\n",
      "                       Feature  Coefficient\n",
      "0                    Intercept        8.252\n",
      "85                Country_Iran        2.082\n",
      "116              Country_Nepal       -1.859\n",
      "205      E1_Income support_2.0        1.854\n",
      "203      E1_Income support_0.0       -1.713\n",
      "..                         ...          ...\n",
      "98             Country_Lebanon        0.005\n",
      "4    H5_Investment in vaccines        0.005\n",
      "2     E4_International support        0.004\n",
      "151        Country_Switzerland        0.003\n",
      "76              Country_Greece        0.002\n",
      "\n",
      "[218 rows x 2 columns]\n"
     ]
    },
    {
     "data": {
      "image/png": "[encoded data removed]",
      "text/plain": [
       "<Figure size 432x288 with 1 Axes>"
      ]
     },
     "metadata": {
      "needs_background": "light"
     },
     "output_type": "display_data"
    },
    {
     "name": "stdout",
     "output_type": "stream",
     "text": [
      "Ridge: Features with highest magnitude                                coefficients in absolute value\n",
      "                         Feature  Coefficient\n",
      "0                      Intercept        8.252\n",
      "85                  Country_Iran        2.082\n",
      "116                Country_Nepal       -1.859\n",
      "205        E1_Income support_2.0        1.854\n",
      "203        E1_Income support_0.0       -1.713\n",
      "31               Country_Belarus        1.632\n",
      "206  E2_Debt/contract relief_0.0       -1.499\n",
      "112             Country_Mongolia       -1.455\n",
      "83                 Country_India       -1.407\n",
      "172        C1_School closing_0.0       -1.402\n",
      "\n",
      "Bias: 1452564051.96\n",
      "Root Mean squared error: 79424.46\n",
      "RSS: 13304089306174.59\n",
      "Variance score: -0.02\n",
      "\n",
      "R2 score: 0.57\n",
      "\n",
      "                       Feature  Coefficient\n",
      "7       ContainmentHealthIndex     -637.860\n",
      "5              StringencyIndex      550.045\n",
      "214      H2_Testing policy_3.0       84.922\n",
      "211      H2_Testing policy_0.0      -84.397\n",
      "215     H3_Contact tracing_0.0      -84.333\n",
      "..                         ...          ...\n",
      "169              Country_Yemen        0.005\n",
      "4    H5_Investment in vaccines        0.004\n",
      "2     E4_International support        0.004\n",
      "143           Country_Slovenia        0.003\n",
      "18                   Day Count        0.002\n",
      "\n",
      "[218 rows x 2 columns]\n"
     ]
    },
    {
     "data": {
      "image/png": "[encoded data removed]",
      "text/plain": [
       "<Figure size 432x288 with 1 Axes>"
      ]
     },
     "metadata": {
      "needs_background": "light"
     },
     "output_type": "display_data"
    },
    {
     "name": "stdout",
     "output_type": "stream",
     "text": [
      "Linear Regression: Features with highest magnitude                                coefficients in absolute value\n",
      "                     Feature  Coefficient\n",
      "7     ContainmentHealthIndex     -637.860\n",
      "5            StringencyIndex      550.045\n",
      "214    H2_Testing policy_3.0       84.922\n",
      "211    H2_Testing policy_0.0      -84.397\n",
      "215   H3_Contact tracing_0.0      -84.333\n",
      "217   H3_Contact tracing_2.0       84.153\n",
      "0                  Intercept       75.483\n",
      "212    H2_Testing policy_1.0      -28.563\n",
      "213    H2_Testing policy_2.0       28.039\n",
      "6    GovernmentResponseIndex        6.754\n",
      "\n",
      "Bias: 1452563933.82\n",
      "Root Mean squared error: 78182.81\n",
      "RSS: 12891370091541.80\n",
      "Variance score: -0.02\n",
      "\n",
      "R2 score: 0.58\n",
      "\n",
      "Cutting dataframe on date: 2020-05-12\n",
      "Success: Features match\n",
      "Success: No NAs remain\n",
      "                           Feature  Coefficient\n",
      "0                        Intercept        2.231\n",
      "8             EconomicSupportIndex        0.317\n",
      "19   Days Elapsed Since First Case        0.059\n",
      "18                       Day Count        0.007\n",
      "150                 Country_Sweden       -0.000\n",
      "..                             ...          ...\n",
      "78                  Country_Guinea       -0.000\n",
      "79                   Country_Haiti       -0.000\n",
      "80                Country_Honduras       -0.000\n",
      "81                 Country_Hungary        0.000\n",
      "217         H3_Contact tracing_2.0       -0.000\n",
      "\n",
      "[218 rows x 2 columns]\n"
     ]
    },
    {
     "data": {
      "image/png": "[encoded data removed]",
      "text/plain": [
       "<Figure size 432x288 with 1 Axes>"
      ]
     },
     "metadata": {
      "needs_background": "light"
     },
     "output_type": "display_data"
    },
    {
     "name": "stdout",
     "output_type": "stream",
     "text": [
      "Lasso: Features with highest magnitude                                coefficients in absolute value\n",
      "                           Feature  Coefficient\n",
      "0                        Intercept        2.231\n",
      "8             EconomicSupportIndex        0.317\n",
      "19   Days Elapsed Since First Case        0.059\n",
      "18                       Day Count        0.007\n",
      "150                 Country_Sweden       -0.000\n",
      "140           Country_Sierra Leone        0.000\n",
      "141              Country_Singapore       -0.000\n",
      "142        Country_Slovak Republic        0.000\n",
      "143               Country_Slovenia        0.000\n",
      "144           Country_South Africa        0.000\n",
      "\n",
      "Bias: 936944276.84\n",
      "Root Mean squared error: 105923.93\n",
      "RSS: 23561744697475.08\n",
      "Variance score: -0.02\n",
      "\n",
      "R2 score: 0.00\n",
      "\n",
      "                       Feature  Coefficient\n",
      "0                    Intercept        8.527\n",
      "85                Country_Iran        2.068\n",
      "205      E1_Income support_2.0        1.900\n",
      "116              Country_Nepal       -1.740\n",
      "203      E1_Income support_0.0       -1.713\n",
      "..                         ...          ...\n",
      "18                   Day Count       -0.006\n",
      "2     E4_International support        0.004\n",
      "28             Country_Bahrain       -0.003\n",
      "79               Country_Haiti       -0.001\n",
      "4    H5_Investment in vaccines        0.001\n",
      "\n",
      "[218 rows x 2 columns]\n"
     ]
    },
    {
     "data": {
      "image/png": "[encoded data removed]",
      "text/plain": [
       "<Figure size 432x288 with 1 Axes>"
      ]
     },
     "metadata": {
      "needs_background": "light"
     },
     "output_type": "display_data"
    },
    {
     "name": "stdout",
     "output_type": "stream",
     "text": [
      "Ridge: Features with highest magnitude                                coefficients in absolute value\n",
      "                         Feature  Coefficient\n",
      "0                      Intercept        8.527\n",
      "85                  Country_Iran        2.068\n",
      "205        E1_Income support_2.0        1.900\n",
      "116                Country_Nepal       -1.740\n",
      "203        E1_Income support_0.0       -1.713\n",
      "31               Country_Belarus        1.494\n",
      "112             Country_Mongolia       -1.461\n",
      "206  E2_Debt/contract relief_0.0       -1.454\n",
      "172        C1_School closing_0.0       -1.416\n",
      "83                 Country_India       -1.380\n",
      "\n",
      "Bias: 936924609.51\n",
      "Root Mean squared error: 67828.78\n",
      "RSS: 9661560279221.93\n",
      "Variance score: -0.02\n",
      "\n",
      "R2 score: 0.59\n",
      "\n",
      "                                   Feature     Coefficient\n",
      "0                                Intercept -9674785731.069\n",
      "182            C3_Cancel public events_2.0  6314511449.760\n",
      "181            C3_Cancel public events_1.0  6314511448.823\n",
      "180            C3_Cancel public events_0.0  6314511448.177\n",
      "191       C6_Stay at home requirements_0.0 -6282277945.004\n",
      "..                                     ...             ...\n",
      "209    H1_Public information campaigns_1.0           0.285\n",
      "1                       E3_Fiscal measures           0.037\n",
      "3    H4_Emergency investment in healthcare          -0.028\n",
      "2                 E4_International support           0.005\n",
      "4                H5_Investment in vaccines           0.000\n",
      "\n",
      "[218 rows x 2 columns]\n"
     ]
    },
    {
     "data": {
      "image/png": "[encoded data removed]",
      "text/plain": [
       "<Figure size 432x288 with 1 Axes>"
      ]
     },
     "metadata": {
      "needs_background": "light"
     },
     "output_type": "display_data"
    },
    {
     "name": "stdout",
     "output_type": "stream",
     "text": [
      "Linear Regression: Features with highest magnitude                                coefficients in absolute value\n",
      "                              Feature     Coefficient\n",
      "0                           Intercept -9674785731.069\n",
      "182       C3_Cancel public events_2.0  6314511449.760\n",
      "181       C3_Cancel public events_1.0  6314511448.823\n",
      "180       C3_Cancel public events_0.0  6314511448.177\n",
      "191  C6_Stay at home requirements_0.0 -6282277945.004\n",
      "192  C6_Stay at home requirements_1.0 -6282277944.447\n",
      "193  C6_Stay at home requirements_2.0 -6282277943.852\n",
      "194  C6_Stay at home requirements_3.0 -6282277943.435\n",
      "205             E1_Income support_2.0  5290807827.846\n",
      "204             E1_Income support_1.0  5290807825.761\n",
      "\n",
      "Bias: 936924490.26\n",
      "Root Mean squared error: 67720.50\n",
      "RSS: 9630737817288.24\n",
      "Variance score: -0.02\n",
      "\n",
      "R2 score: 0.59\n",
      "\n",
      "Cutting dataframe on date: 2020-05-05\n",
      "Success: Features match\n",
      "Success: No NAs remain\n",
      "                           Feature  Coefficient\n",
      "0                        Intercept        2.143\n",
      "8             EconomicSupportIndex        0.347\n",
      "19   Days Elapsed Since First Case        0.057\n",
      "18                       Day Count        0.007\n",
      "5                  StringencyIndex        0.001\n",
      "..                             ...          ...\n",
      "78                  Country_Guinea       -0.000\n",
      "79                   Country_Haiti       -0.000\n",
      "80                Country_Honduras       -0.000\n",
      "81                 Country_Hungary        0.000\n",
      "217         H3_Contact tracing_2.0        0.000\n",
      "\n",
      "[218 rows x 2 columns]\n"
     ]
    },
    {
     "data": {
      "image/png": "[encoded data removed]",
      "text/plain": [
       "<Figure size 432x288 with 1 Axes>"
      ]
     },
     "metadata": {
      "needs_background": "light"
     },
     "output_type": "display_data"
    },
    {
     "name": "stdout",
     "output_type": "stream",
     "text": [
      "Lasso: Features with highest magnitude                                coefficients in absolute value\n",
      "                           Feature  Coefficient\n",
      "0                        Intercept        2.143\n",
      "8             EconomicSupportIndex        0.347\n",
      "19   Days Elapsed Since First Case        0.057\n",
      "18                       Day Count        0.007\n",
      "5                  StringencyIndex        0.001\n",
      "150                 Country_Sweden       -0.000\n",
      "140           Country_Sierra Leone        0.000\n",
      "141              Country_Singapore       -0.000\n",
      "142        Country_Slovak Republic       -0.000\n",
      "143               Country_Slovenia        0.000\n",
      "\n",
      "Bias: 547357641.45\n",
      "Root Mean squared error: 91335.98\n",
      "RSS: 17527091484284.98\n",
      "Variance score: -0.01\n",
      "\n",
      "R2 score: -0.01\n",
      "\n",
      "                          Feature  Coefficient\n",
      "0                       Intercept        8.796\n",
      "85                   Country_Iran        2.029\n",
      "205         E1_Income support_2.0        1.955\n",
      "203         E1_Income support_0.0       -1.714\n",
      "116                 Country_Nepal       -1.598\n",
      "..                            ...          ...\n",
      "136          Country_Saudi Arabia        0.009\n",
      "161               Country_Ukraine       -0.009\n",
      "162  Country_United Arab Emirates        0.006\n",
      "18                      Day Count       -0.006\n",
      "2        E4_International support        0.005\n",
      "\n",
      "[218 rows x 2 columns]\n"
     ]
    },
    {
     "data": {
      "image/png": "[encoded data removed]",
      "text/plain": [
       "<Figure size 432x288 with 1 Axes>"
      ]
     },
     "metadata": {
      "needs_background": "light"
     },
     "output_type": "display_data"
    },
    {
     "name": "stdout",
     "output_type": "stream",
     "text": [
      "Ridge: Features with highest magnitude                                coefficients in absolute value\n",
      "                         Feature  Coefficient\n",
      "0                      Intercept        8.796\n",
      "85                  Country_Iran        2.029\n",
      "205        E1_Income support_2.0        1.955\n",
      "203        E1_Income support_0.0       -1.714\n",
      "116                Country_Nepal       -1.598\n",
      "112             Country_Mongolia       -1.495\n",
      "206  E2_Debt/contract relief_0.0       -1.480\n",
      "172        C1_School closing_0.0       -1.412\n",
      "83                 Country_India       -1.384\n",
      "31               Country_Belarus        1.349\n",
      "\n",
      "Bias: 547341832.09\n",
      "Root Mean squared error: 63774.69\n",
      "RSS: 8545209535585.97\n",
      "Variance score: -0.01\n",
      "\n",
      "R2 score: 0.51\n",
      "\n",
      "                       Feature  Coefficient\n",
      "7       ContainmentHealthIndex     -421.761\n",
      "5              StringencyIndex      338.692\n",
      "0                    Intercept       60.852\n",
      "214      H2_Testing policy_3.0       55.614\n",
      "211      H2_Testing policy_0.0      -55.221\n",
      "..                         ...          ...\n",
      "4    H5_Investment in vaccines        0.016\n",
      "16         Diabetes Prevalence       -0.010\n",
      "161            Country_Ukraine       -0.005\n",
      "2     E4_International support        0.005\n",
      "18                   Day Count       -0.000\n",
      "\n",
      "[218 rows x 2 columns]\n"
     ]
    },
    {
     "data": {
      "image/png": "[encoded data removed]",
      "text/plain": [
       "<Figure size 432x288 with 1 Axes>"
      ]
     },
     "metadata": {
      "needs_background": "light"
     },
     "output_type": "display_data"
    },
    {
     "name": "stdout",
     "output_type": "stream",
     "text": [
      "Linear Regression: Features with highest magnitude                                coefficients in absolute value\n",
      "                     Feature  Coefficient\n",
      "7     ContainmentHealthIndex     -421.761\n",
      "5            StringencyIndex      338.692\n",
      "0                  Intercept       60.852\n",
      "214    H2_Testing policy_3.0       55.614\n",
      "211    H2_Testing policy_0.0      -55.221\n",
      "215   H3_Contact tracing_0.0      -55.176\n",
      "217   H3_Contact tracing_2.0       55.046\n",
      "6    GovernmentResponseIndex       34.447\n",
      "212    H2_Testing policy_1.0      -18.789\n",
      "213    H2_Testing policy_2.0       18.397\n",
      "\n",
      "Bias: 547341735.24\n",
      "Root Mean squared error: 63955.00\n",
      "RSS: 8593597698438.25\n",
      "Variance score: -0.01\n",
      "\n",
      "R2 score: 0.50\n",
      "\n",
      "Cutting dataframe on date: 2020-04-28\n",
      "Success: Features match\n",
      "Success: No NAs remain\n",
      "                           Feature  Coefficient\n",
      "0                        Intercept        2.217\n",
      "8             EconomicSupportIndex        0.309\n",
      "5                  StringencyIndex        0.164\n",
      "19   Days Elapsed Since First Case        0.053\n",
      "18                       Day Count        0.004\n",
      "..                             ...          ...\n",
      "79                   Country_Haiti       -0.000\n",
      "80                Country_Honduras       -0.000\n",
      "81                 Country_Hungary        0.000\n",
      "82                 Country_Iceland        0.000\n",
      "218         H3_Contact tracing_2.0        0.000\n",
      "\n",
      "[219 rows x 2 columns]\n"
     ]
    },
    {
     "data": {
      "image/png": "[encoded data removed]",
      "text/plain": [
       "<Figure size 432x288 with 1 Axes>"
      ]
     },
     "metadata": {
      "needs_background": "light"
     },
     "output_type": "display_data"
    },
    {
     "name": "stdout",
     "output_type": "stream",
     "text": [
      "Lasso: Features with highest magnitude                                coefficients in absolute value\n",
      "                           Feature  Coefficient\n",
      "0                        Intercept        2.217\n",
      "8             EconomicSupportIndex        0.309\n",
      "5                  StringencyIndex        0.164\n",
      "19   Days Elapsed Since First Case        0.053\n",
      "18                       Day Count        0.004\n",
      "151            Country_Switzerland        0.000\n",
      "141              Country_Singapore       -0.000\n",
      "142        Country_Slovak Republic       -0.000\n",
      "143               Country_Slovenia        0.000\n",
      "144           Country_South Africa        0.000\n",
      "\n",
      "Bias: 278197755.63\n",
      "Root Mean squared error: 75494.88\n",
      "RSS: 12042993512319.05\n",
      "Variance score: -0.01\n",
      "\n",
      "R2 score: -0.03\n",
      "\n",
      "                         Feature  Coefficient\n",
      "0                      Intercept        9.593\n",
      "205        E1_Income support_2.0        2.064\n",
      "85                  Country_Iran        1.972\n",
      "203        E1_Income support_0.0       -1.771\n",
      "206  E2_Debt/contract relief_0.0       -1.529\n",
      "..                           ...          ...\n",
      "20           Country_Afghanistan        0.006\n",
      "18                     Day Count       -0.006\n",
      "2       E4_International support        0.006\n",
      "54            Country_Costa Rica       -0.001\n",
      "136         Country_Saudi Arabia        0.000\n",
      "\n",
      "[219 rows x 2 columns]\n"
     ]
    },
    {
     "data": {
      "image/png": "[encoded data removed]",
      "text/plain": [
       "<Figure size 432x288 with 1 Axes>"
      ]
     },
     "metadata": {
      "needs_background": "light"
     },
     "output_type": "display_data"
    },
    {
     "name": "stdout",
     "output_type": "stream",
     "text": [
      "Ridge: Features with highest magnitude                                coefficients in absolute value\n",
      "                         Feature  Coefficient\n",
      "0                      Intercept        9.593\n",
      "205        E1_Income support_2.0        2.064\n",
      "85                  Country_Iran        1.972\n",
      "203        E1_Income support_0.0       -1.771\n",
      "206  E2_Debt/contract relief_0.0       -1.529\n",
      "112             Country_Mongolia       -1.523\n",
      "116                Country_Nepal       -1.473\n",
      "208  E2_Debt/contract relief_2.0        1.418\n",
      "83                 Country_India       -1.383\n",
      "172        C1_School closing_0.0       -1.366\n",
      "\n",
      "Bias: 278185450.78\n",
      "Root Mean squared error: 55401.52\n",
      "RSS: 6485491294195.35\n",
      "Variance score: -0.01\n",
      "\n",
      "R2 score: 0.45\n",
      "\n",
      "                                   Feature      Coefficient\n",
      "0                                Intercept  46617740770.226\n",
      "164       Country_United States of America  18514603693.104\n",
      "206            E2_Debt/contract relief_0.0 -18284784177.915\n",
      "207            E2_Debt/contract relief_1.0 -18284784176.241\n",
      "208            E2_Debt/contract relief_2.0 -18284784174.886\n",
      "..                                     ...              ...\n",
      "8                     EconomicSupportIndex            7.554\n",
      "1                       E3_Fiscal measures            0.044\n",
      "3    H4_Emergency investment in healthcare           -0.037\n",
      "4                H5_Investment in vaccines            0.019\n",
      "2                 E4_International support            0.006\n",
      "\n",
      "[219 rows x 2 columns]\n"
     ]
    },
    {
     "data": {
      "image/png": "[encoded data removed]",
      "text/plain": [
       "<Figure size 432x288 with 1 Axes>"
      ]
     },
     "metadata": {
      "needs_background": "light"
     },
     "output_type": "display_data"
    },
    {
     "name": "stdout",
     "output_type": "stream",
     "text": [
      "Linear Regression: Features with highest magnitude                                coefficients in absolute value\n",
      "                                 Feature      Coefficient\n",
      "0                              Intercept  46617740770.226\n",
      "164     Country_United States of America  18514603693.104\n",
      "206          E2_Debt/contract relief_0.0 -18284784177.915\n",
      "207          E2_Debt/contract relief_1.0 -18284784176.241\n",
      "208          E2_Debt/contract relief_2.0 -18284784174.886\n",
      "216               H3_Contact tracing_0.0 -14707611351.323\n",
      "217               H3_Contact tracing_1.0 -14707611313.356\n",
      "218               H3_Contact tracing_2.0 -14707611275.667\n",
      "211  H1_Public information campaigns_2.0  13586803850.429\n",
      "210  H1_Public information campaigns_1.0  13586803849.879\n",
      "\n",
      "Bias: 278185400.31\n",
      "Root Mean squared error: 54969.77\n",
      "RSS: 6384800569024.41\n",
      "Variance score: -0.01\n",
      "\n",
      "R2 score: 0.45\n",
      "\n",
      "Cutting dataframe on date: 2020-04-21\n",
      "Success: Features match\n",
      "Success: No NAs remain\n",
      "                           Feature  Coefficient\n",
      "0                        Intercept        2.228\n",
      "6          GovernmentResponseIndex        0.220\n",
      "8             EconomicSupportIndex        0.209\n",
      "5                  StringencyIndex        0.106\n",
      "19   Days Elapsed Since First Case        0.049\n",
      "..                             ...          ...\n",
      "79                   Country_Haiti       -0.000\n",
      "80                Country_Honduras       -0.000\n",
      "81                 Country_Hungary       -0.000\n",
      "82                 Country_Iceland        0.000\n",
      "218         H3_Contact tracing_2.0        0.000\n",
      "\n",
      "[219 rows x 2 columns]\n"
     ]
    },
    {
     "data": {
      "image/png": "[encoded data removed]",
      "text/plain": [
       "<Figure size 432x288 with 1 Axes>"
      ]
     },
     "metadata": {
      "needs_background": "light"
     },
     "output_type": "display_data"
    },
    {
     "name": "stdout",
     "output_type": "stream",
     "text": [
      "Lasso: Features with highest magnitude                                coefficients in absolute value\n",
      "                           Feature  Coefficient\n",
      "0                        Intercept        2.228\n",
      "6          GovernmentResponseIndex        0.220\n",
      "8             EconomicSupportIndex        0.209\n",
      "5                  StringencyIndex        0.106\n",
      "19   Days Elapsed Since First Case        0.049\n",
      "18                       Day Count        0.000\n",
      "142        Country_Slovak Republic       -0.000\n",
      "143               Country_Slovenia        0.000\n",
      "141              Country_Singapore        0.000\n",
      "144           Country_South Africa        0.000\n",
      "\n",
      "Bias: 117250559.63\n",
      "Root Mean squared error: 58957.64\n",
      "RSS: 7362174156314.90\n",
      "Variance score: -0.01\n",
      "\n",
      "R2 score: -0.04\n",
      "\n",
      "                      Feature  Coefficient\n",
      "0                   Intercept        9.871\n",
      "205     E1_Income support_2.0        2.090\n",
      "85               Country_Iran        1.882\n",
      "203     E1_Income support_0.0       -1.708\n",
      "112          Country_Mongolia       -1.605\n",
      "..                        ...          ...\n",
      "2    E4_International support        0.007\n",
      "18                  Day Count       -0.005\n",
      "27         Country_Azerbaijan       -0.005\n",
      "131          Country_Portugal       -0.005\n",
      "26            Country_Austria        0.003\n",
      "\n",
      "[219 rows x 2 columns]\n"
     ]
    },
    {
     "data": {
      "image/png": "[encoded data removed]",
      "text/plain": [
       "<Figure size 432x288 with 1 Axes>"
      ]
     },
     "metadata": {
      "needs_background": "light"
     },
     "output_type": "display_data"
    },
    {
     "name": "stdout",
     "output_type": "stream",
     "text": [
      "Ridge: Features with highest magnitude                                coefficients in absolute value\n",
      "                         Feature  Coefficient\n",
      "0                      Intercept        9.871\n",
      "205        E1_Income support_2.0        2.090\n",
      "85                  Country_Iran        1.882\n",
      "203        E1_Income support_0.0       -1.708\n",
      "112             Country_Mongolia       -1.605\n",
      "206  E2_Debt/contract relief_0.0       -1.554\n",
      "208  E2_Debt/contract relief_2.0        1.492\n",
      "83                 Country_India       -1.345\n",
      "172        C1_School closing_0.0       -1.308\n",
      "116                Country_Nepal       -1.257\n",
      "\n",
      "Bias: 117241580.13\n",
      "Root Mean squared error: 42885.73\n",
      "RSS: 3895395615096.66\n",
      "Variance score: -0.01\n",
      "\n",
      "R2 score: 0.45\n",
      "\n",
      "                                   Feature     Coefficient\n",
      "164       Country_United States of America -2099230319.820\n",
      "0                                Intercept  1681894090.624\n",
      "206            E2_Debt/contract relief_0.0 -1609433798.867\n",
      "207            E2_Debt/contract relief_1.0 -1609433797.204\n",
      "208            E2_Debt/contract relief_2.0 -1609433795.699\n",
      "..                                     ...             ...\n",
      "8                     EconomicSupportIndex          18.311\n",
      "1                       E3_Fiscal measures           0.049\n",
      "3    H4_Emergency investment in healthcare          -0.040\n",
      "4                H5_Investment in vaccines           0.022\n",
      "2                 E4_International support           0.007\n",
      "\n",
      "[219 rows x 2 columns]\n"
     ]
    },
    {
     "data": {
      "image/png": "[encoded data removed]",
      "text/plain": [
       "<Figure size 432x288 with 1 Axes>"
      ]
     },
     "metadata": {
      "needs_background": "light"
     },
     "output_type": "display_data"
    },
    {
     "name": "stdout",
     "output_type": "stream",
     "text": [
      "Linear Regression: Features with highest magnitude                                coefficients in absolute value\n",
      "                                 Feature     Coefficient\n",
      "164     Country_United States of America -2099230319.820\n",
      "0                              Intercept  1681894090.624\n",
      "206          E2_Debt/contract relief_0.0 -1609433798.867\n",
      "207          E2_Debt/contract relief_1.0 -1609433797.204\n",
      "208          E2_Debt/contract relief_2.0 -1609433795.699\n",
      "50                         Country_China -1305997892.059\n",
      "151                  Country_Switzerland  1198167998.241\n",
      "83                         Country_India  1166482689.523\n",
      "103                   Country_Luxembourg   945366271.892\n",
      "209  H1_Public information campaigns_0.0  -870254269.776\n",
      "\n",
      "Bias: 117241533.22\n",
      "Root Mean squared error: 42847.58\n",
      "RSS: 3888468676863.14\n",
      "Variance score: -0.01\n",
      "\n",
      "R2 score: 0.45\n",
      "\n"
     ]
    }
   ],
   "source": [
    "weeks_for_cv = [0,1,2,3,4,5,6]\n",
    "n_weeks_prediction = 2\n",
    "results = {}\n",
    "for i in weeks_for_cv:\n",
    "    shorter_df = pipeline.cut_df_on_weeks(df, i)\n",
    "    df_train, df_test = pipeline.split_and_scale_on_last_weeks(shorter_df, n_weeks_prediction)\n",
    "    pipeline.sanity_check(df_train, df_test)\n",
    "    X_train, y_train = pipeline.divide_target_and_features(df_train, 'log_cases')\n",
    "    X_test, y_test = pipeline.divide_target_and_features(df_test, 'log_cases')\n",
    "    dct = pipeline.train_and_evaluate(X_train, y_train, X_test, y_test)\n",
    "    results['Until week: ' +str(i)] = dct"
   ]
  },
  {
   "cell_type": "code",
   "execution_count": 7,
   "metadata": {},
   "outputs": [
    {
     "data": {
      "text/html": [
       "<div>\n",
       "<style scoped>\n",
       "    .dataframe tbody tr th:only-of-type {\n",
       "        vertical-align: middle;\n",
       "    }\n",
       "\n",
       "    .dataframe tbody tr th {\n",
       "        vertical-align: top;\n",
       "    }\n",
       "\n",
       "    .dataframe thead th {\n",
       "        text-align: right;\n",
       "    }\n",
       "</style>\n",
       "<table border=\"1\" class=\"dataframe\">\n",
       "  <thead>\n",
       "    <tr style=\"text-align: right;\">\n",
       "      <th></th>\n",
       "      <th>Lasso</th>\n",
       "      <th>Ridge</th>\n",
       "      <th>Linear Regression</th>\n",
       "    </tr>\n",
       "  </thead>\n",
       "  <tbody>\n",
       "    <tr>\n",
       "      <th>0</th>\n",
       "      <td>164190.722</td>\n",
       "      <td>188761.956</td>\n",
       "      <td>197947.954</td>\n",
       "    </tr>\n",
       "    <tr>\n",
       "      <th>1</th>\n",
       "      <td>132605.859</td>\n",
       "      <td>166830.591</td>\n",
       "      <td>172220.274</td>\n",
       "    </tr>\n",
       "    <tr>\n",
       "      <th>2</th>\n",
       "      <td>118913.037</td>\n",
       "      <td>79424.463</td>\n",
       "      <td>78182.805</td>\n",
       "    </tr>\n",
       "    <tr>\n",
       "      <th>3</th>\n",
       "      <td>105923.928</td>\n",
       "      <td>67828.777</td>\n",
       "      <td>67720.496</td>\n",
       "    </tr>\n",
       "    <tr>\n",
       "      <th>4</th>\n",
       "      <td>91335.982</td>\n",
       "      <td>63774.686</td>\n",
       "      <td>63954.997</td>\n",
       "    </tr>\n",
       "    <tr>\n",
       "      <th>5</th>\n",
       "      <td>75494.876</td>\n",
       "      <td>55401.521</td>\n",
       "      <td>54969.770</td>\n",
       "    </tr>\n",
       "    <tr>\n",
       "      <th>6</th>\n",
       "      <td>58957.637</td>\n",
       "      <td>42885.730</td>\n",
       "      <td>42847.583</td>\n",
       "    </tr>\n",
       "  </tbody>\n",
       "</table>\n",
       "</div>"
      ],
      "text/plain": [
       "       Lasso      Ridge Linear Regression\n",
       "0 164190.722 188761.956        197947.954\n",
       "1 132605.859 166830.591        172220.274\n",
       "2 118913.037  79424.463         78182.805\n",
       "3 105923.928  67828.777         67720.496\n",
       "4  91335.982  63774.686         63954.997\n",
       "5  75494.876  55401.521         54969.770\n",
       "6  58957.637  42885.730         42847.583"
      ]
     },
     "execution_count": 7,
     "metadata": {},
     "output_type": "execute_result"
    }
   ],
   "source": [
    "# summarizing time seried nested Cross Validation: \n",
    "\n",
    "metrics_rmse = pd.DataFrame(columns=['Lasso','Ridge','Linear Regression'])\n",
    "for i, mkey in enumerate(results):\n",
    "    for key in results[mkey]:\n",
    "        metrics_rmse.loc[i,key] = results[mkey][key][1]\n",
    "metrics_rmse"
   ]
  },
  {
   "cell_type": "code",
   "execution_count": 8,
   "metadata": {
    "scrolled": true
   },
   "outputs": [
    {
     "name": "stdout",
     "output_type": "stream",
     "text": [
      "Lasso 7 fold avg: 106774.5770699611\n",
      "Ridge 7 fold avg: 94986.8177695619\n",
      "Linear Regression 7 fold avg: 96834.83990938491\n"
     ]
    }
   ],
   "source": [
    "# finding averages across all folds\n",
    "\n",
    "print(\"Lasso 7 fold avg:\", metrics_rmse['Lasso'].mean())\n",
    "print(\"Ridge 7 fold avg:\", metrics_rmse['Ridge'].mean())\n",
    "print(\"Linear Regression 7 fold avg:\", metrics_rmse['Linear Regression'].mean() )"
   ]
  },
  {
   "cell_type": "code",
   "execution_count": 9,
   "metadata": {},
   "outputs": [
    {
     "data": {
      "text/html": [
       "<div>\n",
       "<style scoped>\n",
       "    .dataframe tbody tr th:only-of-type {\n",
       "        vertical-align: middle;\n",
       "    }\n",
       "\n",
       "    .dataframe tbody tr th {\n",
       "        vertical-align: top;\n",
       "    }\n",
       "\n",
       "    .dataframe thead th {\n",
       "        text-align: right;\n",
       "    }\n",
       "</style>\n",
       "<table border=\"1\" class=\"dataframe\">\n",
       "  <thead>\n",
       "    <tr style=\"text-align: right;\">\n",
       "      <th></th>\n",
       "      <th>Lasso</th>\n",
       "      <th>Ridge</th>\n",
       "      <th>Linear Regression</th>\n",
       "      <th>Lasso_k_fold</th>\n",
       "      <th>Ridge_k_fold</th>\n",
       "      <th>LR_k_fold</th>\n",
       "    </tr>\n",
       "    <tr>\n",
       "      <th>outcome</th>\n",
       "      <th></th>\n",
       "      <th></th>\n",
       "      <th></th>\n",
       "      <th></th>\n",
       "      <th></th>\n",
       "      <th></th>\n",
       "    </tr>\n",
       "  </thead>\n",
       "  <tbody>\n",
       "    <tr>\n",
       "      <th>Confirmed Cases</th>\n",
       "      <td>164190.722</td>\n",
       "      <td>188761.956</td>\n",
       "      <td>197947.954</td>\n",
       "      <td>106774.577</td>\n",
       "      <td>94986.818</td>\n",
       "      <td>96834.840</td>\n",
       "    </tr>\n",
       "  </tbody>\n",
       "</table>\n",
       "</div>"
      ],
      "text/plain": [
       "                     Lasso      Ridge  Linear Regression  Lasso_k_fold  \\\n",
       "outcome                                                                  \n",
       "Confirmed Cases 164190.722 188761.956         197947.954    106774.577   \n",
       "\n",
       "                 Ridge_k_fold  LR_k_fold  \n",
       "outcome                                   \n",
       "Confirmed Cases     94986.818  96834.840  "
      ]
     },
     "execution_count": 9,
     "metadata": {},
     "output_type": "execute_result"
    }
   ],
   "source": [
    "Evalution_RMSE['Lasso_k_fold'] = metrics_rmse['Lasso'].mean()\n",
    "Evalution_RMSE['Ridge_k_fold'] = metrics_rmse['Ridge'].mean()\n",
    "Evalution_RMSE['LR_k_fold'] = metrics_rmse['Linear Regression'].mean()\n",
    "Evalution_RMSE"
   ]
  },
  {
   "cell_type": "markdown",
   "metadata": {},
   "source": [
    "### 3.1.3 : Decision Tress Regression"
   ]
  },
  {
   "cell_type": "code",
   "execution_count": 10,
   "metadata": {},
   "outputs": [
    {
     "name": "stdout",
     "output_type": "stream",
     "text": [
      "Success: Features match\n",
      "Success: No NAs remain\n"
     ]
    }
   ],
   "source": [
    "## setting up Train and test dfs\n",
    "\n",
    "## df for confirmed cases \n",
    "filepath = '../data/covid_df_protocol_3.pkl'\n",
    "df = pd.read_pickle(filepath)\n",
    "df['log_cases'] = df['Confirmed Cases']\n",
    "df_train, df_test = pipeline.split_and_scale_on_last_weeks(df, 2)\n",
    "pipeline.sanity_check(df_train, df_test)\n",
    "X_train, y_train_cases = pipeline.divide_target_and_features(df_train, 'log_cases')\n",
    "X_test, y_test_cases = pipeline.divide_target_and_features(df_test, 'log_cases')\n"
   ]
  },
  {
   "cell_type": "code",
   "execution_count": 11,
   "metadata": {},
   "outputs": [
    {
     "name": "stdout",
     "output_type": "stream",
     "text": [
      "Bias: 0.00\n",
      "Root Mean squared error: 25800.88\n",
      "RSS: 1012507824100.00\n",
      "Variance score: 1.00\n",
      "\n",
      "R2 score: 0.98\n",
      "\n"
     ]
    },
    {
     "data": {
      "text/plain": [
       "(0.0, 25800.884043434406, 1012507824100.0, 1.0, 0.9771710639831147)"
      ]
     },
     "execution_count": 11,
     "metadata": {},
     "output_type": "execute_result"
    }
   ],
   "source": [
    "## fitting models\n",
    "\n",
    "# on Confirmed Cases\n",
    "from sklearn.tree import DecisionTreeRegressor\n",
    "\n",
    "dtr = DecisionTreeRegressor()\n",
    "dtr.fit(X_train, y_train_cases)\n",
    "y_pred_cases = dtr.predict(X_test)\n",
    "pipeline.metrics(y_pred_cases, y_test_cases, X_train, y_train_cases, dtr)"
   ]
  },
  {
   "cell_type": "code",
   "execution_count": 12,
   "metadata": {},
   "outputs": [],
   "source": [
    "# making prediction and saving it to a pickle file\n",
    "predictions = pipeline.predictions_every_country(X_test.columns[19:169], X_test, y_pred_cases, y_test_cases)\n",
    "predictions.to_pickle(\"../predictions/cases_dtr.pkl\")"
   ]
  },
  {
   "cell_type": "code",
   "execution_count": 13,
   "metadata": {},
   "outputs": [
    {
     "name": "stdout",
     "output_type": "stream",
     "text": [
      "Bias: 0.00\n",
      "Root Mean squared error: 25800.88\n",
      "RSS: 1012507824100.00\n",
      "Variance score: 1.00\n",
      "\n",
      "R2 score: 0.98\n",
      "\n"
     ]
    },
    {
     "data": {
      "text/html": [
       "<div>\n",
       "<style scoped>\n",
       "    .dataframe tbody tr th:only-of-type {\n",
       "        vertical-align: middle;\n",
       "    }\n",
       "\n",
       "    .dataframe tbody tr th {\n",
       "        vertical-align: top;\n",
       "    }\n",
       "\n",
       "    .dataframe thead th {\n",
       "        text-align: right;\n",
       "    }\n",
       "</style>\n",
       "<table border=\"1\" class=\"dataframe\">\n",
       "  <thead>\n",
       "    <tr style=\"text-align: right;\">\n",
       "      <th></th>\n",
       "      <th>Lasso</th>\n",
       "      <th>Ridge</th>\n",
       "      <th>Linear Regression</th>\n",
       "      <th>Lasso_k_fold</th>\n",
       "      <th>Ridge_k_fold</th>\n",
       "      <th>LR_k_fold</th>\n",
       "      <th>Decision Tree Regression</th>\n",
       "    </tr>\n",
       "    <tr>\n",
       "      <th>outcome</th>\n",
       "      <th></th>\n",
       "      <th></th>\n",
       "      <th></th>\n",
       "      <th></th>\n",
       "      <th></th>\n",
       "      <th></th>\n",
       "      <th></th>\n",
       "    </tr>\n",
       "  </thead>\n",
       "  <tbody>\n",
       "    <tr>\n",
       "      <th>Confirmed Cases</th>\n",
       "      <td>164190.722</td>\n",
       "      <td>188761.956</td>\n",
       "      <td>197947.954</td>\n",
       "      <td>106774.577</td>\n",
       "      <td>94986.818</td>\n",
       "      <td>96834.840</td>\n",
       "      <td>25800.884</td>\n",
       "    </tr>\n",
       "  </tbody>\n",
       "</table>\n",
       "</div>"
      ],
      "text/plain": [
       "                     Lasso      Ridge  Linear Regression  Lasso_k_fold  \\\n",
       "outcome                                                                  \n",
       "Confirmed Cases 164190.722 188761.956         197947.954    106774.577   \n",
       "\n",
       "                 Ridge_k_fold  LR_k_fold  Decision Tree Regression  \n",
       "outcome                                                             \n",
       "Confirmed Cases     94986.818  96834.840                 25800.884  "
      ]
     },
     "execution_count": 13,
     "metadata": {},
     "output_type": "execute_result"
    }
   ],
   "source": [
    "metrics = pipeline.metrics(y_pred_cases, y_test_cases, X_train, y_train_cases, dtr)\n",
    "Evalution_RMSE['Decision Tree Regression'] = metrics[1]\n",
    "Evalution_RMSE"
   ]
  },
  {
   "cell_type": "markdown",
   "metadata": {},
   "source": [
    "### 3.1.4 : Random Forest Regression "
   ]
  },
  {
   "cell_type": "code",
   "execution_count": 14,
   "metadata": {},
   "outputs": [
    {
     "name": "stdout",
     "output_type": "stream",
     "text": [
      "Bias: 176261.19\n",
      "Root Mean squared error: 26285.32\n",
      "RSS: 1050886654378.03\n",
      "Variance score: 1.00\n",
      "\n",
      "R2 score: 0.98\n",
      "\n"
     ]
    }
   ],
   "source": [
    "from sklearn.ensemble import RandomForestRegressor\n",
    "\n",
    "# Confirmed Cases\n",
    "rf = RandomForestRegressor(random_state=0)\n",
    "rf.fit(X_train, y_train_cases)\n",
    "y_pred_cases = rf.predict(X_test)\n",
    "metrics = pipeline.metrics(y_pred_cases, y_test_cases, X_train, y_train_cases, rf)"
   ]
  },
  {
   "cell_type": "code",
   "execution_count": 15,
   "metadata": {},
   "outputs": [],
   "source": [
    "# making prediction and saving it to a pickle file\n",
    "predictions = pipeline.predictions_every_country(X_test.columns[19:169], X_test, y_pred_cases, y_test_cases)\n",
    "predictions.to_pickle(\"../predictions/cases_rf.pkl\")"
   ]
  },
  {
   "cell_type": "code",
   "execution_count": 16,
   "metadata": {},
   "outputs": [
    {
     "data": {
      "text/html": [
       "<div>\n",
       "<style scoped>\n",
       "    .dataframe tbody tr th:only-of-type {\n",
       "        vertical-align: middle;\n",
       "    }\n",
       "\n",
       "    .dataframe tbody tr th {\n",
       "        vertical-align: top;\n",
       "    }\n",
       "\n",
       "    .dataframe thead th {\n",
       "        text-align: right;\n",
       "    }\n",
       "</style>\n",
       "<table border=\"1\" class=\"dataframe\">\n",
       "  <thead>\n",
       "    <tr style=\"text-align: right;\">\n",
       "      <th></th>\n",
       "      <th>Lasso</th>\n",
       "      <th>Ridge</th>\n",
       "      <th>Linear Regression</th>\n",
       "      <th>Lasso_k_fold</th>\n",
       "      <th>Ridge_k_fold</th>\n",
       "      <th>LR_k_fold</th>\n",
       "      <th>Decision Tree Regression</th>\n",
       "      <th>Random Forest Regression</th>\n",
       "    </tr>\n",
       "    <tr>\n",
       "      <th>outcome</th>\n",
       "      <th></th>\n",
       "      <th></th>\n",
       "      <th></th>\n",
       "      <th></th>\n",
       "      <th></th>\n",
       "      <th></th>\n",
       "      <th></th>\n",
       "      <th></th>\n",
       "    </tr>\n",
       "  </thead>\n",
       "  <tbody>\n",
       "    <tr>\n",
       "      <th>Confirmed Cases</th>\n",
       "      <td>164190.722</td>\n",
       "      <td>188761.956</td>\n",
       "      <td>197947.954</td>\n",
       "      <td>106774.577</td>\n",
       "      <td>94986.818</td>\n",
       "      <td>96834.840</td>\n",
       "      <td>25800.884</td>\n",
       "      <td>26285.324</td>\n",
       "    </tr>\n",
       "  </tbody>\n",
       "</table>\n",
       "</div>"
      ],
      "text/plain": [
       "                     Lasso      Ridge  Linear Regression  Lasso_k_fold  \\\n",
       "outcome                                                                  \n",
       "Confirmed Cases 164190.722 188761.956         197947.954    106774.577   \n",
       "\n",
       "                 Ridge_k_fold  LR_k_fold  Decision Tree Regression  \\\n",
       "outcome                                                              \n",
       "Confirmed Cases     94986.818  96834.840                 25800.884   \n",
       "\n",
       "                 Random Forest Regression  \n",
       "outcome                                    \n",
       "Confirmed Cases                 26285.324  "
      ]
     },
     "execution_count": 16,
     "metadata": {},
     "output_type": "execute_result"
    }
   ],
   "source": [
    "Evalution_RMSE['Random Forest Regression'] = metrics[1]\n",
    "Evalution_RMSE"
   ]
  },
  {
   "cell_type": "markdown",
   "metadata": {},
   "source": [
    "### 3.1.5 : Conclusion "
   ]
  },
  {
   "cell_type": "code",
   "execution_count": 17,
   "metadata": {},
   "outputs": [
    {
     "data": {
      "text/plain": [
       "<matplotlib.axes._subplots.AxesSubplot at 0x1a1e4af6d0>"
      ]
     },
     "execution_count": 17,
     "metadata": {},
     "output_type": "execute_result"
    },
    {
     "data": {
      "image/png": "[encoded data removed]",
      "text/plain": [
       "<Figure size 432x288 with 1 Axes>"
      ]
     },
     "metadata": {
      "needs_background": "light"
     },
     "output_type": "display_data"
    }
   ],
   "source": [
    "Evalution_RMSE.transpose().plot.bar()"
   ]
  },
  {
   "cell_type": "markdown",
   "metadata": {},
   "source": [
    "From all the models, the Decision Tree Regression produces the lowest Root Mean Squared Error"
   ]
  },
  {
   "cell_type": "markdown",
   "metadata": {},
   "source": [
    "## 3.2 : Outcome Variable - Deaths   \n",
    "### 3.2.1 : Linear Models: Lasso, Ridge and Linear Regression  "
   ]
  },
  {
   "cell_type": "code",
   "execution_count": 18,
   "metadata": {},
   "outputs": [
    {
     "name": "stdout",
     "output_type": "stream",
     "text": [
      "Success: Features match\n",
      "Success: No NAs remain\n"
     ]
    }
   ],
   "source": [
    "#setting up the dataframe \n",
    "filepath = '../data/covid_df_protocol_3.pkl'\n",
    "df = pd.read_pickle(filepath)\n",
    "df['log_cases'] = np.log(df['Deaths'] + 1)\n",
    "# getting train and test dataframes\n",
    "df_train, df_test = pipeline.split_and_scale_on_last_weeks(df, 2)\n",
    "#sanity chceck\n",
    "pipeline.sanity_check(df_train, df_test)\n",
    "# Getting Features and outcome variables\n",
    "X_train, y_train = pipeline.divide_target_and_features(df_train, 'log_cases')\n",
    "X_test, y_test = pipeline.divide_target_and_features(df_test, 'log_cases')"
   ]
  },
  {
   "cell_type": "code",
   "execution_count": 19,
   "metadata": {},
   "outputs": [
    {
     "name": "stdout",
     "output_type": "stream",
     "text": [
      "                           Feature  Coefficient\n",
      "0                        Intercept        1.170\n",
      "19   Days Elapsed Since First Case        0.037\n",
      "8             EconomicSupportIndex        0.015\n",
      "18                       Day Count       -0.000\n",
      "149            Country_Switzerland        0.000\n",
      "..                             ...          ...\n",
      "77                  Country_Guinea       -0.000\n",
      "78                   Country_Haiti       -0.000\n",
      "79                Country_Honduras        0.000\n",
      "80                 Country_Hungary        0.000\n",
      "215         H3_Contact tracing_2.0       -0.000\n",
      "\n",
      "[216 rows x 2 columns]\n"
     ]
    },
    {
     "data": {
      "image/png": "[encoded data removed]",
      "text/plain": [
       "<Figure size 432x288 with 1 Axes>"
      ]
     },
     "metadata": {
      "needs_background": "light"
     },
     "output_type": "display_data"
    },
    {
     "name": "stdout",
     "output_type": "stream",
     "text": [
      "Lasso: Features with highest magnitude                                coefficients in absolute value\n",
      "                           Feature  Coefficient\n",
      "0                        Intercept        1.170\n",
      "19   Days Elapsed Since First Case        0.037\n",
      "8             EconomicSupportIndex        0.015\n",
      "18                       Day Count       -0.000\n",
      "149            Country_Switzerland        0.000\n",
      "139              Country_Singapore       -0.000\n",
      "140        Country_Slovak Republic       -0.000\n",
      "141               Country_Slovenia        0.000\n",
      "142           Country_South Africa        0.000\n",
      "143            Country_South Korea        0.000\n",
      "\n",
      "Bias: 13554673.41\n",
      "Root Mean squared error: 11379.13\n",
      "RSS: 196946104498.00\n",
      "Variance score: -0.02\n",
      "\n",
      "R2 score: -0.05\n",
      "\n",
      "                      Feature  Coefficient\n",
      "0                   Intercept        3.870\n",
      "88              Country_Italy        2.395\n",
      "84               Country_Iran        2.027\n",
      "116       Country_New Zealand       -1.882\n",
      "166           Country_Vietnam       -1.768\n",
      "..                        ...          ...\n",
      "93              Country_Kenya        0.007\n",
      "16        Diabetes Prevalence        0.006\n",
      "18                  Day Count        0.005\n",
      "97            Country_Lebanon        0.004\n",
      "2    E4_International support        0.002\n",
      "\n",
      "[216 rows x 2 columns]\n"
     ]
    },
    {
     "data": {
      "image/png": "[encoded data removed]",
      "text/plain": [
       "<Figure size 432x288 with 1 Axes>"
      ]
     },
     "metadata": {
      "needs_background": "light"
     },
     "output_type": "display_data"
    },
    {
     "name": "stdout",
     "output_type": "stream",
     "text": [
      "Ridge: Features with highest magnitude                                coefficients in absolute value\n",
      "                   Feature  Coefficient\n",
      "0                Intercept        3.870\n",
      "88           Country_Italy        2.395\n",
      "84            Country_Iran        2.027\n",
      "116    Country_New Zealand       -1.882\n",
      "166        Country_Vietnam       -1.768\n",
      "81         Country_Iceland       -1.582\n",
      "83       Country_Indonesia        1.509\n",
      "82           Country_India       -1.445\n",
      "144          Country_Spain        1.369\n",
      "203  E1_Income support_2.0        1.355\n",
      "\n",
      "Bias: 13551690.15\n",
      "Root Mean squared error: 10371.99\n",
      "RSS: 163626476419.75\n",
      "Variance score: -0.02\n",
      "\n",
      "R2 score: 0.13\n",
      "\n",
      "                           Feature  Coefficient\n",
      "7           ContainmentHealthIndex     -973.760\n",
      "5                  StringencyIndex      904.163\n",
      "212          H2_Testing policy_3.0      136.373\n",
      "209          H2_Testing policy_0.0     -135.854\n",
      "213         H3_Contact tracing_0.0     -135.512\n",
      "..                             ...          ...\n",
      "4        H5_Investment in vaccines        0.013\n",
      "156                Country_Tunisia       -0.011\n",
      "19   Days Elapsed Since First Case       -0.010\n",
      "70                   Country_Gabon        0.010\n",
      "2         E4_International support        0.003\n",
      "\n",
      "[216 rows x 2 columns]\n"
     ]
    },
    {
     "data": {
      "image/png": "[encoded data removed]",
      "text/plain": [
       "<Figure size 432x288 with 1 Axes>"
      ]
     },
     "metadata": {
      "needs_background": "light"
     },
     "output_type": "display_data"
    },
    {
     "name": "stdout",
     "output_type": "stream",
     "text": [
      "Linear Regression: Features with highest magnitude                                coefficients in absolute value\n",
      "                     Feature  Coefficient\n",
      "7     ContainmentHealthIndex     -973.760\n",
      "5            StringencyIndex      904.163\n",
      "212    H2_Testing policy_3.0      136.373\n",
      "209    H2_Testing policy_0.0     -135.854\n",
      "213   H3_Contact tracing_0.0     -135.512\n",
      "215   H3_Contact tracing_2.0      135.400\n",
      "0                  Intercept       93.981\n",
      "6    GovernmentResponseIndex      -71.059\n",
      "210    H2_Testing policy_1.0      -45.741\n",
      "211    H2_Testing policy_2.0       45.223\n",
      "\n",
      "Bias: 13551683.94\n",
      "Root Mean squared error: 10326.61\n",
      "RSS: 162197742901.85\n",
      "Variance score: -0.02\n",
      "\n",
      "R2 score: 0.14\n",
      "\n"
     ]
    }
   ],
   "source": [
    "# running Linear models \n",
    "results_dict = pipeline.train_and_evaluate(X_train, y_train, X_test, y_test)"
   ]
  },
  {
   "cell_type": "code",
   "execution_count": 20,
   "metadata": {},
   "outputs": [
    {
     "data": {
      "text/html": [
       "<div>\n",
       "<style scoped>\n",
       "    .dataframe tbody tr th:only-of-type {\n",
       "        vertical-align: middle;\n",
       "    }\n",
       "\n",
       "    .dataframe tbody tr th {\n",
       "        vertical-align: top;\n",
       "    }\n",
       "\n",
       "    .dataframe thead th {\n",
       "        text-align: right;\n",
       "    }\n",
       "</style>\n",
       "<table border=\"1\" class=\"dataframe\">\n",
       "  <thead>\n",
       "    <tr style=\"text-align: right;\">\n",
       "      <th></th>\n",
       "      <th>Lasso</th>\n",
       "      <th>Ridge</th>\n",
       "      <th>Linear Regression</th>\n",
       "    </tr>\n",
       "    <tr>\n",
       "      <th>metrics</th>\n",
       "      <th></th>\n",
       "      <th></th>\n",
       "      <th></th>\n",
       "    </tr>\n",
       "  </thead>\n",
       "  <tbody>\n",
       "    <tr>\n",
       "      <th>Bias</th>\n",
       "      <td>13554673.407</td>\n",
       "      <td>13551690.147</td>\n",
       "      <td>13551683.944</td>\n",
       "    </tr>\n",
       "    <tr>\n",
       "      <th>RMSE</th>\n",
       "      <td>11379.131</td>\n",
       "      <td>10371.992</td>\n",
       "      <td>10326.610</td>\n",
       "    </tr>\n",
       "    <tr>\n",
       "      <th>RSS</th>\n",
       "      <td>196946104498.001</td>\n",
       "      <td>163626476419.747</td>\n",
       "      <td>162197742901.852</td>\n",
       "    </tr>\n",
       "    <tr>\n",
       "      <th>Variance</th>\n",
       "      <td>-0.017</td>\n",
       "      <td>-0.017</td>\n",
       "      <td>-0.017</td>\n",
       "    </tr>\n",
       "    <tr>\n",
       "      <th>R2</th>\n",
       "      <td>-0.048</td>\n",
       "      <td>0.129</td>\n",
       "      <td>0.137</td>\n",
       "    </tr>\n",
       "  </tbody>\n",
       "</table>\n",
       "</div>"
      ],
      "text/plain": [
       "                    Lasso            Ridge  Linear Regression\n",
       "metrics                                                      \n",
       "Bias         13554673.407     13551690.147       13551683.944\n",
       "RMSE            11379.131        10371.992          10326.610\n",
       "RSS      196946104498.001 163626476419.747   162197742901.852\n",
       "Variance           -0.017           -0.017             -0.017\n",
       "R2                 -0.048            0.129              0.137"
      ]
     },
     "execution_count": 20,
     "metadata": {},
     "output_type": "execute_result"
    }
   ],
   "source": [
    "# comparing the metrics for all three models\n",
    "rs = pd.DataFrame(results_dict) \n",
    "rs['metrics']= ['Bias','RMSE','RSS','Variance','R2']\n",
    "rs = rs.set_index('metrics')\n",
    "rs"
   ]
  },
  {
   "cell_type": "code",
   "execution_count": 21,
   "metadata": {},
   "outputs": [
    {
     "data": {
      "text/html": [
       "<div>\n",
       "<style scoped>\n",
       "    .dataframe tbody tr th:only-of-type {\n",
       "        vertical-align: middle;\n",
       "    }\n",
       "\n",
       "    .dataframe tbody tr th {\n",
       "        vertical-align: top;\n",
       "    }\n",
       "\n",
       "    .dataframe thead th {\n",
       "        text-align: right;\n",
       "    }\n",
       "</style>\n",
       "<table border=\"1\" class=\"dataframe\">\n",
       "  <thead>\n",
       "    <tr style=\"text-align: right;\">\n",
       "      <th></th>\n",
       "      <th>Lasso</th>\n",
       "      <th>Ridge</th>\n",
       "      <th>Linear Regression</th>\n",
       "      <th>Lasso_k_fold</th>\n",
       "      <th>Ridge_k_fold</th>\n",
       "      <th>LR_k_fold</th>\n",
       "      <th>Decision Tree Regression</th>\n",
       "      <th>Random Forest Regression</th>\n",
       "    </tr>\n",
       "    <tr>\n",
       "      <th>outcome</th>\n",
       "      <th></th>\n",
       "      <th></th>\n",
       "      <th></th>\n",
       "      <th></th>\n",
       "      <th></th>\n",
       "      <th></th>\n",
       "      <th></th>\n",
       "      <th></th>\n",
       "    </tr>\n",
       "  </thead>\n",
       "  <tbody>\n",
       "    <tr>\n",
       "      <th>Confirmed Cases</th>\n",
       "      <td>164190.722</td>\n",
       "      <td>188761.956</td>\n",
       "      <td>197947.954</td>\n",
       "      <td>106774.577</td>\n",
       "      <td>94986.818</td>\n",
       "      <td>96834.840</td>\n",
       "      <td>25800.884</td>\n",
       "      <td>26285.324</td>\n",
       "    </tr>\n",
       "    <tr>\n",
       "      <th>Deaths</th>\n",
       "      <td>11379.131</td>\n",
       "      <td>10371.992</td>\n",
       "      <td>10326.610</td>\n",
       "      <td>nan</td>\n",
       "      <td>nan</td>\n",
       "      <td>nan</td>\n",
       "      <td>nan</td>\n",
       "      <td>nan</td>\n",
       "    </tr>\n",
       "  </tbody>\n",
       "</table>\n",
       "</div>"
      ],
      "text/plain": [
       "                     Lasso      Ridge  Linear Regression  Lasso_k_fold  \\\n",
       "outcome                                                                  \n",
       "Confirmed Cases 164190.722 188761.956         197947.954    106774.577   \n",
       "Deaths           11379.131  10371.992          10326.610           nan   \n",
       "\n",
       "                 Ridge_k_fold  LR_k_fold  Decision Tree Regression  \\\n",
       "outcome                                                              \n",
       "Confirmed Cases     94986.818  96834.840                 25800.884   \n",
       "Deaths                    nan        nan                       nan   \n",
       "\n",
       "                 Random Forest Regression  \n",
       "outcome                                    \n",
       "Confirmed Cases                 26285.324  \n",
       "Deaths                                nan  "
      ]
     },
     "execution_count": 21,
     "metadata": {},
     "output_type": "execute_result"
    }
   ],
   "source": [
    "rmse_list = [rs.loc['RMSE','Lasso'], rs.loc['RMSE', 'Ridge'], rs.loc['RMSE','Linear Regression']]\n",
    "Evalution_RMSE = Evalution_RMSE = Evalution_RMSE.append(dict(zip(Evalution_RMSE.columns,rmse_list)), \n",
    "                                                        ignore_index = True)\n",
    "Evalution_RMSE['outcome'] = ['Confirmed Cases', 'Deaths']\n",
    "Evalution_RMSE = Evalution_RMSE.set_index('outcome')\n",
    "Evalution_RMSE"
   ]
  },
  {
   "cell_type": "markdown",
   "metadata": {},
   "source": [
    "### 3.2.2 : K - Fold cross Validation"
   ]
  },
  {
   "cell_type": "code",
   "execution_count": 22,
   "metadata": {},
   "outputs": [
    {
     "name": "stdout",
     "output_type": "stream",
     "text": [
      "Cutting dataframe on date: 2020-06-02\n",
      "Success: Features match\n",
      "Success: No NAs remain\n",
      "                           Feature  Coefficient\n",
      "0                        Intercept        1.170\n",
      "19   Days Elapsed Since First Case        0.037\n",
      "8             EconomicSupportIndex        0.015\n",
      "18                       Day Count       -0.000\n",
      "149            Country_Switzerland        0.000\n",
      "..                             ...          ...\n",
      "77                  Country_Guinea       -0.000\n",
      "78                   Country_Haiti       -0.000\n",
      "79                Country_Honduras        0.000\n",
      "80                 Country_Hungary        0.000\n",
      "215         H3_Contact tracing_2.0       -0.000\n",
      "\n",
      "[216 rows x 2 columns]\n"
     ]
    },
    {
     "data": {
      "image/png": "[encoded data removed]",
      "text/plain": [
       "<Figure size 432x288 with 1 Axes>"
      ]
     },
     "metadata": {
      "needs_background": "light"
     },
     "output_type": "display_data"
    },
    {
     "name": "stdout",
     "output_type": "stream",
     "text": [
      "Lasso: Features with highest magnitude                                coefficients in absolute value\n",
      "                           Feature  Coefficient\n",
      "0                        Intercept        1.170\n",
      "19   Days Elapsed Since First Case        0.037\n",
      "8             EconomicSupportIndex        0.015\n",
      "18                       Day Count       -0.000\n",
      "149            Country_Switzerland        0.000\n",
      "139              Country_Singapore       -0.000\n",
      "140        Country_Slovak Republic       -0.000\n",
      "141               Country_Slovenia        0.000\n",
      "142           Country_South Africa        0.000\n",
      "143            Country_South Korea        0.000\n",
      "\n",
      "Bias: 13554673.41\n",
      "Root Mean squared error: 11379.13\n",
      "RSS: 196946104498.00\n",
      "Variance score: -0.02\n",
      "\n",
      "R2 score: -0.05\n",
      "\n",
      "                      Feature  Coefficient\n",
      "0                   Intercept        3.870\n",
      "88              Country_Italy        2.395\n",
      "84               Country_Iran        2.027\n",
      "116       Country_New Zealand       -1.882\n",
      "166           Country_Vietnam       -1.768\n",
      "..                        ...          ...\n",
      "93              Country_Kenya        0.007\n",
      "16        Diabetes Prevalence        0.006\n",
      "18                  Day Count        0.005\n",
      "97            Country_Lebanon        0.004\n",
      "2    E4_International support        0.002\n",
      "\n",
      "[216 rows x 2 columns]\n"
     ]
    },
    {
     "data": {
      "image/png": "[encoded data removed]",
      "text/plain": [
       "<Figure size 432x288 with 1 Axes>"
      ]
     },
     "metadata": {
      "needs_background": "light"
     },
     "output_type": "display_data"
    },
    {
     "name": "stdout",
     "output_type": "stream",
     "text": [
      "Ridge: Features with highest magnitude                                coefficients in absolute value\n",
      "                   Feature  Coefficient\n",
      "0                Intercept        3.870\n",
      "88           Country_Italy        2.395\n",
      "84            Country_Iran        2.027\n",
      "116    Country_New Zealand       -1.882\n",
      "166        Country_Vietnam       -1.768\n",
      "81         Country_Iceland       -1.582\n",
      "83       Country_Indonesia        1.509\n",
      "82           Country_India       -1.445\n",
      "144          Country_Spain        1.369\n",
      "203  E1_Income support_2.0        1.355\n",
      "\n",
      "Bias: 13551690.15\n",
      "Root Mean squared error: 10371.99\n",
      "RSS: 163626476419.75\n",
      "Variance score: -0.02\n",
      "\n",
      "R2 score: 0.13\n",
      "\n",
      "                           Feature  Coefficient\n",
      "7           ContainmentHealthIndex     -973.760\n",
      "5                  StringencyIndex      904.163\n",
      "212          H2_Testing policy_3.0      136.373\n",
      "209          H2_Testing policy_0.0     -135.854\n",
      "213         H3_Contact tracing_0.0     -135.512\n",
      "..                             ...          ...\n",
      "4        H5_Investment in vaccines        0.013\n",
      "156                Country_Tunisia       -0.011\n",
      "19   Days Elapsed Since First Case       -0.010\n",
      "70                   Country_Gabon        0.010\n",
      "2         E4_International support        0.003\n",
      "\n",
      "[216 rows x 2 columns]\n"
     ]
    },
    {
     "data": {
      "image/png": "[encoded data removed]",
      "text/plain": [
       "<Figure size 432x288 with 1 Axes>"
      ]
     },
     "metadata": {
      "needs_background": "light"
     },
     "output_type": "display_data"
    },
    {
     "name": "stdout",
     "output_type": "stream",
     "text": [
      "Linear Regression: Features with highest magnitude                                coefficients in absolute value\n",
      "                     Feature  Coefficient\n",
      "7     ContainmentHealthIndex     -973.760\n",
      "5            StringencyIndex      904.163\n",
      "212    H2_Testing policy_3.0      136.373\n",
      "209    H2_Testing policy_0.0     -135.854\n",
      "213   H3_Contact tracing_0.0     -135.512\n",
      "215   H3_Contact tracing_2.0      135.400\n",
      "0                  Intercept       93.981\n",
      "6    GovernmentResponseIndex      -71.059\n",
      "210    H2_Testing policy_1.0      -45.741\n",
      "211    H2_Testing policy_2.0       45.223\n",
      "\n",
      "Bias: 13551683.94\n",
      "Root Mean squared error: 10326.61\n",
      "RSS: 162197742901.85\n",
      "Variance score: -0.02\n",
      "\n",
      "R2 score: 0.14\n",
      "\n",
      "Cutting dataframe on date: 2020-05-26\n",
      "Success: Features match\n",
      "Success: No NAs remain\n",
      "                           Feature  Coefficient\n",
      "0                        Intercept        1.153\n",
      "8             EconomicSupportIndex        0.044\n",
      "19   Days Elapsed Since First Case        0.036\n",
      "150                 Country_Sweden        0.000\n",
      "139             Country_Seychelles       -0.000\n",
      "..                             ...          ...\n",
      "77               Country_Guatemala       -0.000\n",
      "78                  Country_Guinea       -0.000\n",
      "79                   Country_Haiti       -0.000\n",
      "80                Country_Honduras        0.000\n",
      "217         H3_Contact tracing_2.0       -0.000\n",
      "\n",
      "[218 rows x 2 columns]\n"
     ]
    },
    {
     "data": {
      "image/png": "[encoded data removed]",
      "text/plain": [
       "<Figure size 432x288 with 1 Axes>"
      ]
     },
     "metadata": {
      "needs_background": "light"
     },
     "output_type": "display_data"
    },
    {
     "name": "stdout",
     "output_type": "stream",
     "text": [
      "Lasso: Features with highest magnitude                                coefficients in absolute value\n",
      "                           Feature  Coefficient\n",
      "0                        Intercept        1.153\n",
      "8             EconomicSupportIndex        0.044\n",
      "19   Days Elapsed Since First Case        0.036\n",
      "150                 Country_Sweden        0.000\n",
      "139             Country_Seychelles       -0.000\n",
      "140           Country_Sierra Leone        0.000\n",
      "141              Country_Singapore       -0.000\n",
      "142        Country_Slovak Republic       -0.000\n",
      "143               Country_Slovenia        0.000\n",
      "144           Country_South Africa        0.000\n",
      "\n",
      "Bias: 10006818.39\n",
      "Root Mean squared error: 9381.05\n",
      "RSS: 181552380857.62\n",
      "Variance score: -0.02\n",
      "\n",
      "R2 score: -0.05\n",
      "\n",
      "                                        Feature  Coefficient\n",
      "0                                     Intercept        4.046\n",
      "89                                Country_Italy        2.354\n",
      "85                                 Country_Iran        2.045\n",
      "118                         Country_New Zealand       -1.977\n",
      "168                             Country_Vietnam       -1.632\n",
      "..                                          ...          ...\n",
      "17   Current Health Expenditure Per Capita, PPP       -0.009\n",
      "18                                    Day Count        0.005\n",
      "79                                Country_Haiti       -0.003\n",
      "2                      E4_International support        0.003\n",
      "71                                Country_Gabon       -0.000\n",
      "\n",
      "[218 rows x 2 columns]\n"
     ]
    },
    {
     "data": {
      "image/png": "[encoded data removed]",
      "text/plain": [
       "<Figure size 432x288 with 1 Axes>"
      ]
     },
     "metadata": {
      "needs_background": "light"
     },
     "output_type": "display_data"
    },
    {
     "name": "stdout",
     "output_type": "stream",
     "text": [
      "Ridge: Features with highest magnitude                                coefficients in absolute value\n",
      "                   Feature  Coefficient\n",
      "0                Intercept        4.046\n",
      "89           Country_Italy        2.354\n",
      "85            Country_Iran        2.045\n",
      "118    Country_New Zealand       -1.977\n",
      "168        Country_Vietnam       -1.632\n",
      "83           Country_India       -1.551\n",
      "82         Country_Iceland       -1.449\n",
      "146          Country_Spain        1.369\n",
      "84       Country_Indonesia        1.330\n",
      "205  E1_Income support_2.0        1.310\n",
      "\n",
      "Bias: 10004340.95\n",
      "Root Mean squared error: 8977.89\n",
      "RSS: 166282893443.88\n",
      "Variance score: -0.02\n",
      "\n",
      "R2 score: 0.04\n",
      "\n",
      "                                      Feature     Coefficient\n",
      "0                                   Intercept  6053843542.067\n",
      "195  C7_Restrictions on internal movement_0.0 -1714541136.023\n",
      "197  C7_Restrictions on internal movement_2.0 -1714541134.860\n",
      "196  C7_Restrictions on internal movement_1.0 -1714541134.784\n",
      "172                     C1_School closing_0.0 -1262843166.101\n",
      "..                                        ...             ...\n",
      "209       H1_Public information campaigns_1.0           0.298\n",
      "1                          E3_Fiscal measures           0.038\n",
      "3       H4_Emergency investment in healthcare          -0.029\n",
      "4                   H5_Investment in vaccines           0.016\n",
      "2                    E4_International support           0.004\n",
      "\n",
      "[218 rows x 2 columns]\n"
     ]
    },
    {
     "data": {
      "image/png": "[encoded data removed]",
      "text/plain": [
       "<Figure size 432x288 with 1 Axes>"
      ]
     },
     "metadata": {
      "needs_background": "light"
     },
     "output_type": "display_data"
    },
    {
     "name": "stdout",
     "output_type": "stream",
     "text": [
      "Linear Regression: Features with highest magnitude                                coefficients in absolute value\n",
      "                                      Feature     Coefficient\n",
      "0                                   Intercept  6053843542.067\n",
      "195  C7_Restrictions on internal movement_0.0 -1714541136.023\n",
      "197  C7_Restrictions on internal movement_2.0 -1714541134.860\n",
      "196  C7_Restrictions on internal movement_1.0 -1714541134.784\n",
      "172                     C1_School closing_0.0 -1262843166.101\n",
      "175                     C1_School closing_3.0 -1262843165.157\n",
      "174                     C1_School closing_2.0 -1262843164.905\n",
      "173                     C1_School closing_1.0 -1262843164.611\n",
      "203                     E1_Income support_0.0  -955023519.032\n",
      "204                     E1_Income support_1.0  -955023517.869\n",
      "\n",
      "Bias: 10004331.96\n",
      "Root Mean squared error: 8900.04\n",
      "RSS: 163411595084.91\n",
      "Variance score: -0.02\n",
      "\n",
      "R2 score: 0.06\n",
      "\n",
      "Cutting dataframe on date: 2020-05-19\n",
      "Success: Features match\n",
      "Success: No NAs remain\n",
      "                           Feature  Coefficient\n",
      "0                        Intercept        1.128\n",
      "8             EconomicSupportIndex        0.073\n",
      "19   Days Elapsed Since First Case        0.034\n",
      "150                 Country_Sweden        0.000\n",
      "139             Country_Seychelles       -0.000\n",
      "..                             ...          ...\n",
      "77               Country_Guatemala       -0.000\n",
      "78                  Country_Guinea       -0.000\n",
      "79                   Country_Haiti       -0.000\n",
      "80                Country_Honduras        0.000\n",
      "217         H3_Contact tracing_2.0       -0.000\n",
      "\n",
      "[218 rows x 2 columns]\n"
     ]
    },
    {
     "data": {
      "image/png": "[encoded data removed]",
      "text/plain": [
       "<Figure size 432x288 with 1 Axes>"
      ]
     },
     "metadata": {
      "needs_background": "light"
     },
     "output_type": "display_data"
    },
    {
     "name": "stdout",
     "output_type": "stream",
     "text": [
      "Lasso: Features with highest magnitude                                coefficients in absolute value\n",
      "                           Feature  Coefficient\n",
      "0                        Intercept        1.128\n",
      "8             EconomicSupportIndex        0.073\n",
      "19   Days Elapsed Since First Case        0.034\n",
      "150                 Country_Sweden        0.000\n",
      "139             Country_Seychelles       -0.000\n",
      "140           Country_Sierra Leone        0.000\n",
      "141              Country_Singapore       -0.000\n",
      "142        Country_Slovak Republic       -0.000\n",
      "143               Country_Slovenia        0.000\n",
      "144           Country_South Africa        0.000\n",
      "\n",
      "Bias: 6907946.44\n",
      "Root Mean squared error: 8515.92\n",
      "RSS: 152946490065.82\n",
      "Variance score: -0.01\n",
      "\n",
      "R2 score: -0.05\n",
      "\n",
      "                           Feature  Coefficient\n",
      "0                        Intercept        4.262\n",
      "89                   Country_Italy        2.250\n",
      "85                    Country_Iran        2.068\n",
      "118            Country_New Zealand       -1.888\n",
      "168                Country_Vietnam       -1.525\n",
      "..                             ...          ...\n",
      "19   Days Elapsed Since First Case        0.012\n",
      "80                Country_Honduras        0.008\n",
      "162   Country_United Arab Emirates        0.005\n",
      "18                       Day Count        0.005\n",
      "2         E4_International support        0.004\n",
      "\n",
      "[218 rows x 2 columns]\n"
     ]
    },
    {
     "data": {
      "image/png": "[encoded data removed]",
      "text/plain": [
       "<Figure size 432x288 with 1 Axes>"
      ]
     },
     "metadata": {
      "needs_background": "light"
     },
     "output_type": "display_data"
    },
    {
     "name": "stdout",
     "output_type": "stream",
     "text": [
      "Ridge: Features with highest magnitude                                coefficients in absolute value\n",
      "                              Feature  Coefficient\n",
      "0                           Intercept        4.262\n",
      "89                      Country_Italy        2.250\n",
      "85                       Country_Iran        2.068\n",
      "118               Country_New Zealand       -1.888\n",
      "168                   Country_Vietnam       -1.525\n",
      "83                      Country_India       -1.517\n",
      "205             E1_Income support_2.0        1.339\n",
      "164  Country_United States of America       -1.276\n",
      "82                    Country_Iceland       -1.274\n",
      "203             E1_Income support_0.0       -1.259\n",
      "\n",
      "Bias: 6905941.95\n",
      "Root Mean squared error: 7690.73\n",
      "RSS: 124741572267.97\n",
      "Variance score: -0.01\n",
      "\n",
      "R2 score: 0.15\n",
      "\n",
      "                      Feature  Coefficient\n",
      "5             StringencyIndex      997.327\n",
      "7      ContainmentHealthIndex     -873.618\n",
      "6     GovernmentResponseIndex     -295.305\n",
      "214     H2_Testing policy_3.0      152.636\n",
      "211     H2_Testing policy_0.0     -152.143\n",
      "..                        ...          ...\n",
      "35             Country_Bhutan        0.008\n",
      "2    E4_International support        0.005\n",
      "69            Country_Finland       -0.004\n",
      "61           Country_Djibouti       -0.003\n",
      "167         Country_Venezuela        0.002\n",
      "\n",
      "[218 rows x 2 columns]\n"
     ]
    },
    {
     "data": {
      "image/png": "[encoded data removed]",
      "text/plain": [
       "<Figure size 432x288 with 1 Axes>"
      ]
     },
     "metadata": {
      "needs_background": "light"
     },
     "output_type": "display_data"
    },
    {
     "name": "stdout",
     "output_type": "stream",
     "text": [
      "Linear Regression: Features with highest magnitude                                coefficients in absolute value\n",
      "                     Feature  Coefficient\n",
      "5            StringencyIndex      997.327\n",
      "7     ContainmentHealthIndex     -873.618\n",
      "6    GovernmentResponseIndex     -295.305\n",
      "214    H2_Testing policy_3.0      152.636\n",
      "211    H2_Testing policy_0.0     -152.143\n",
      "215   H3_Contact tracing_0.0     -151.796\n",
      "217   H3_Contact tracing_2.0      151.664\n",
      "0                  Intercept      125.257\n",
      "212    H2_Testing policy_1.0      -51.138\n",
      "213    H2_Testing policy_2.0       50.645\n",
      "\n",
      "Bias: 6905929.53\n",
      "Root Mean squared error: 7675.78\n",
      "RSS: 124257252223.56\n",
      "Variance score: -0.01\n",
      "\n",
      "R2 score: 0.15\n",
      "\n",
      "Cutting dataframe on date: 2020-05-12\n",
      "Success: Features match\n",
      "Success: No NAs remain\n",
      "                           Feature  Coefficient\n",
      "0                        Intercept        1.081\n",
      "8             EconomicSupportIndex        0.090\n",
      "19   Days Elapsed Since First Case        0.032\n",
      "150                 Country_Sweden        0.000\n",
      "139             Country_Seychelles       -0.000\n",
      "..                             ...          ...\n",
      "77               Country_Guatemala       -0.000\n",
      "78                  Country_Guinea       -0.000\n",
      "79                   Country_Haiti       -0.000\n",
      "80                Country_Honduras        0.000\n",
      "217         H3_Contact tracing_2.0       -0.000\n",
      "\n",
      "[218 rows x 2 columns]\n"
     ]
    },
    {
     "data": {
      "image/png": "[encoded data removed]",
      "text/plain": [
       "<Figure size 432x288 with 1 Axes>"
      ]
     },
     "metadata": {
      "needs_background": "light"
     },
     "output_type": "display_data"
    },
    {
     "name": "stdout",
     "output_type": "stream",
     "text": [
      "Lasso: Features with highest magnitude                                coefficients in absolute value\n",
      "                           Feature  Coefficient\n",
      "0                        Intercept        1.081\n",
      "8             EconomicSupportIndex        0.090\n",
      "19   Days Elapsed Since First Case        0.032\n",
      "150                 Country_Sweden        0.000\n",
      "139             Country_Seychelles       -0.000\n",
      "140           Country_Sierra Leone        0.000\n",
      "141              Country_Singapore       -0.000\n",
      "142        Country_Slovak Republic       -0.000\n",
      "143               Country_Slovenia        0.000\n",
      "144           Country_South Africa       -0.000\n",
      "\n",
      "Bias: 4363044.90\n",
      "Root Mean squared error: 7590.00\n",
      "RSS: 120976967222.15\n",
      "Variance score: -0.01\n",
      "\n",
      "R2 score: -0.05\n",
      "\n",
      "                       Feature  Coefficient\n",
      "0                    Intercept        4.410\n",
      "89               Country_Italy        2.108\n",
      "85                Country_Iran        2.057\n",
      "118        Country_New Zealand       -1.825\n",
      "83               Country_India       -1.492\n",
      "..                         ...          ...\n",
      "4    H5_Investment in vaccines        0.008\n",
      "145        Country_South Korea       -0.006\n",
      "2     E4_International support        0.006\n",
      "18                   Day Count        0.004\n",
      "51            Country_Colombia       -0.002\n",
      "\n",
      "[218 rows x 2 columns]\n"
     ]
    },
    {
     "data": {
      "image/png": "[encoded data removed]",
      "text/plain": [
       "<Figure size 432x288 with 1 Axes>"
      ]
     },
     "metadata": {
      "needs_background": "light"
     },
     "output_type": "display_data"
    },
    {
     "name": "stdout",
     "output_type": "stream",
     "text": [
      "Ridge: Features with highest magnitude                                coefficients in absolute value\n",
      "                              Feature  Coefficient\n",
      "0                           Intercept        4.410\n",
      "89                      Country_Italy        2.108\n",
      "85                       Country_Iran        2.057\n",
      "118               Country_New Zealand       -1.825\n",
      "83                      Country_India       -1.492\n",
      "168                   Country_Vietnam       -1.413\n",
      "205             E1_Income support_2.0        1.369\n",
      "203             E1_Income support_0.0       -1.273\n",
      "164  Country_United States of America       -1.249\n",
      "146                     Country_Spain        1.178\n",
      "\n",
      "Bias: 4361492.85\n",
      "Root Mean squared error: 6988.36\n",
      "RSS: 102558082301.91\n",
      "Variance score: -0.01\n",
      "\n",
      "R2 score: 0.11\n",
      "\n",
      "                                   Feature     Coefficient\n",
      "0                                Intercept -6215614544.237\n",
      "182            C3_Cancel public events_2.0  4056789560.141\n",
      "181            C3_Cancel public events_1.0  4056789559.773\n",
      "180            C3_Cancel public events_0.0  4056789559.587\n",
      "191       C6_Stay at home requirements_0.0 -4036080983.595\n",
      "..                                     ...             ...\n",
      "209    H1_Public information campaigns_1.0           0.333\n",
      "1                       E3_Fiscal measures           0.044\n",
      "3    H4_Emergency investment in healthcare          -0.031\n",
      "4                H5_Investment in vaccines           0.007\n",
      "2                 E4_International support           0.006\n",
      "\n",
      "[218 rows x 2 columns]\n"
     ]
    },
    {
     "data": {
      "image/png": "[encoded data removed]",
      "text/plain": [
       "<Figure size 432x288 with 1 Axes>"
      ]
     },
     "metadata": {
      "needs_background": "light"
     },
     "output_type": "display_data"
    },
    {
     "name": "stdout",
     "output_type": "stream",
     "text": [
      "Linear Regression: Features with highest magnitude                                coefficients in absolute value\n",
      "                              Feature     Coefficient\n",
      "0                           Intercept -6215614544.237\n",
      "182       C3_Cancel public events_2.0  4056789560.141\n",
      "181       C3_Cancel public events_1.0  4056789559.773\n",
      "180       C3_Cancel public events_0.0  4056789559.587\n",
      "191  C6_Stay at home requirements_0.0 -4036080983.595\n",
      "192  C6_Stay at home requirements_1.0 -4036080983.276\n",
      "194  C6_Stay at home requirements_3.0 -4036080982.609\n",
      "193  C6_Stay at home requirements_2.0 -4036080982.533\n",
      "205             E1_Income support_2.0  3399106032.742\n",
      "204             E1_Income support_1.0  3399106031.319\n",
      "\n",
      "Bias: 4361481.08\n",
      "Root Mean squared error: 6971.82\n",
      "RSS: 102073280159.65\n",
      "Variance score: -0.01\n",
      "\n",
      "R2 score: 0.11\n",
      "\n",
      "Cutting dataframe on date: 2020-05-05\n",
      "Success: Features match\n",
      "Success: No NAs remain\n",
      "                           Feature  Coefficient\n",
      "0                        Intercept        0.981\n",
      "8             EconomicSupportIndex        0.079\n",
      "19   Days Elapsed Since First Case        0.028\n",
      "18                       Day Count        0.000\n",
      "150                 Country_Sweden        0.000\n",
      "..                             ...          ...\n",
      "78                  Country_Guinea       -0.000\n",
      "79                   Country_Haiti       -0.000\n",
      "80                Country_Honduras        0.000\n",
      "81                 Country_Hungary        0.000\n",
      "217         H3_Contact tracing_2.0       -0.000\n",
      "\n",
      "[218 rows x 2 columns]\n"
     ]
    },
    {
     "data": {
      "image/png": "[encoded data removed]",
      "text/plain": [
       "<Figure size 432x288 with 1 Axes>"
      ]
     },
     "metadata": {
      "needs_background": "light"
     },
     "output_type": "display_data"
    },
    {
     "name": "stdout",
     "output_type": "stream",
     "text": [
      "Lasso: Features with highest magnitude                                coefficients in absolute value\n",
      "                           Feature  Coefficient\n",
      "0                        Intercept        0.981\n",
      "8             EconomicSupportIndex        0.079\n",
      "19   Days Elapsed Since First Case        0.028\n",
      "18                       Day Count        0.000\n",
      "150                 Country_Sweden        0.000\n",
      "140           Country_Sierra Leone        0.000\n",
      "141              Country_Singapore       -0.000\n",
      "142        Country_Slovak Republic       -0.000\n",
      "143               Country_Slovenia        0.000\n",
      "144           Country_South Africa       -0.000\n",
      "\n",
      "Bias: 2421590.65\n",
      "Root Mean squared error: 6523.79\n",
      "RSS: 89418314669.71\n",
      "Variance score: -0.01\n",
      "\n",
      "R2 score: -0.05\n",
      "\n",
      "                      Feature  Coefficient\n",
      "0                   Intercept        4.509\n",
      "85               Country_Iran        2.031\n",
      "89              Country_Italy        1.953\n",
      "118       Country_New Zealand       -1.761\n",
      "83              Country_India       -1.484\n",
      "..                        ...          ...\n",
      "145       Country_South Korea       -0.007\n",
      "2    E4_International support        0.007\n",
      "13            Life Expectancy       -0.006\n",
      "18                  Day Count        0.003\n",
      "90            Country_Jamaica        0.001\n",
      "\n",
      "[218 rows x 2 columns]\n"
     ]
    },
    {
     "data": {
      "image/png": "[encoded data removed]",
      "text/plain": [
       "<Figure size 432x288 with 1 Axes>"
      ]
     },
     "metadata": {
      "needs_background": "light"
     },
     "output_type": "display_data"
    },
    {
     "name": "stdout",
     "output_type": "stream",
     "text": [
      "Ridge: Features with highest magnitude                                coefficients in absolute value\n",
      "                              Feature  Coefficient\n",
      "0                           Intercept        4.509\n",
      "85                       Country_Iran        2.031\n",
      "89                      Country_Italy        1.953\n",
      "118               Country_New Zealand       -1.761\n",
      "83                      Country_India       -1.484\n",
      "205             E1_Income support_2.0        1.384\n",
      "168                   Country_Vietnam       -1.291\n",
      "203             E1_Income support_0.0       -1.247\n",
      "164  Country_United States of America       -1.223\n",
      "146                     Country_Spain        1.082\n",
      "\n",
      "Bias: 2420461.67\n",
      "Root Mean squared error: 6131.04\n",
      "RSS: 78975763101.35\n",
      "Variance score: -0.01\n",
      "\n",
      "R2 score: 0.07\n",
      "\n",
      "                       Feature  Coefficient\n",
      "5              StringencyIndex      750.559\n",
      "7       ContainmentHealthIndex     -602.119\n",
      "6      GovernmentResponseIndex     -280.782\n",
      "214      H2_Testing policy_3.0      121.624\n",
      "211      H2_Testing policy_0.0     -121.184\n",
      "..                         ...          ...\n",
      "126   Country_Papua New Guinea       -0.011\n",
      "4    H5_Investment in vaccines        0.009\n",
      "2     E4_International support        0.007\n",
      "28             Country_Bahrain       -0.007\n",
      "51            Country_Colombia        0.005\n",
      "\n",
      "[218 rows x 2 columns]\n"
     ]
    },
    {
     "data": {
      "image/png": "[encoded data removed]",
      "text/plain": [
       "<Figure size 432x288 with 1 Axes>"
      ]
     },
     "metadata": {
      "needs_background": "light"
     },
     "output_type": "display_data"
    },
    {
     "name": "stdout",
     "output_type": "stream",
     "text": [
      "Linear Regression: Features with highest magnitude                                coefficients in absolute value\n",
      "                     Feature  Coefficient\n",
      "5            StringencyIndex      750.559\n",
      "7     ContainmentHealthIndex     -602.119\n",
      "6    GovernmentResponseIndex     -280.782\n",
      "214    H2_Testing policy_3.0      121.624\n",
      "211    H2_Testing policy_0.0     -121.184\n",
      "215   H3_Contact tracing_0.0     -120.850\n",
      "217   H3_Contact tracing_2.0      120.738\n",
      "0                  Intercept      118.794\n",
      "212    H2_Testing policy_1.0      -40.772\n",
      "213    H2_Testing policy_2.0       40.333\n",
      "\n",
      "Bias: 2420453.74\n",
      "Root Mean squared error: 6119.99\n",
      "RSS: 78691319566.02\n",
      "Variance score: -0.01\n",
      "\n",
      "R2 score: 0.07\n",
      "\n",
      "Cutting dataframe on date: 2020-04-28\n",
      "Success: Features match\n",
      "Success: No NAs remain\n",
      "                           Feature  Coefficient\n",
      "0                        Intercept        0.869\n",
      "8             EconomicSupportIndex        0.037\n",
      "19   Days Elapsed Since First Case        0.025\n",
      "18                       Day Count        0.001\n",
      "150                 Country_Sweden       -0.000\n",
      "..                             ...          ...\n",
      "78                  Country_Guinea       -0.000\n",
      "79                   Country_Haiti       -0.000\n",
      "80                Country_Honduras        0.000\n",
      "81                 Country_Hungary        0.000\n",
      "218         H3_Contact tracing_2.0       -0.000\n",
      "\n",
      "[219 rows x 2 columns]\n"
     ]
    },
    {
     "data": {
      "image/png": "[encoded data removed]",
      "text/plain": [
       "<Figure size 432x288 with 1 Axes>"
      ]
     },
     "metadata": {
      "needs_background": "light"
     },
     "output_type": "display_data"
    },
    {
     "name": "stdout",
     "output_type": "stream",
     "text": [
      "Lasso: Features with highest magnitude                                coefficients in absolute value\n",
      "                           Feature  Coefficient\n",
      "0                        Intercept        0.869\n",
      "8             EconomicSupportIndex        0.037\n",
      "19   Days Elapsed Since First Case        0.025\n",
      "18                       Day Count        0.001\n",
      "150                 Country_Sweden       -0.000\n",
      "140           Country_Sierra Leone        0.000\n",
      "141              Country_Singapore       -0.000\n",
      "142        Country_Slovak Republic       -0.000\n",
      "143               Country_Slovenia        0.000\n",
      "144           Country_South Africa       -0.000\n",
      "\n",
      "Bias: 1118372.77\n",
      "Root Mean squared error: 5330.41\n",
      "RSS: 60037256368.58\n",
      "Variance score: -0.01\n",
      "\n",
      "R2 score: -0.05\n",
      "\n",
      "                 Feature  Coefficient\n",
      "0              Intercept        4.874\n",
      "85          Country_Iran        1.965\n",
      "89         Country_Italy        1.770\n",
      "118  Country_New Zealand       -1.642\n",
      "83         Country_India       -1.451\n",
      "..                   ...          ...\n",
      "72        Country_Gambia       -0.004\n",
      "18             Day Count        0.002\n",
      "31       Country_Belarus       -0.002\n",
      "45      Country_Cameroon       -0.002\n",
      "13       Life Expectancy        0.000\n",
      "\n",
      "[219 rows x 2 columns]\n"
     ]
    },
    {
     "data": {
      "image/png": "[encoded data removed]",
      "text/plain": [
       "<Figure size 432x288 with 1 Axes>"
      ]
     },
     "metadata": {
      "needs_background": "light"
     },
     "output_type": "display_data"
    },
    {
     "name": "stdout",
     "output_type": "stream",
     "text": [
      "Ridge: Features with highest magnitude                                coefficients in absolute value\n",
      "                              Feature  Coefficient\n",
      "0                           Intercept        4.874\n",
      "85                       Country_Iran        1.965\n",
      "89                      Country_Italy        1.770\n",
      "118               Country_New Zealand       -1.642\n",
      "83                      Country_India       -1.451\n",
      "205             E1_Income support_2.0        1.376\n",
      "203             E1_Income support_0.0       -1.192\n",
      "164  Country_United States of America       -1.184\n",
      "50                      Country_China        1.160\n",
      "168                   Country_Vietnam       -1.118\n",
      "\n",
      "Bias: 1117613.30\n",
      "Root Mean squared error: 5087.66\n",
      "RSS: 54693440380.59\n",
      "Variance score: -0.01\n",
      "\n",
      "R2 score: 0.04\n",
      "\n",
      "                                   Feature      Coefficient\n",
      "0                                Intercept  37878717510.283\n",
      "164       Country_United States of America  15043831604.722\n",
      "206            E2_Debt/contract relief_0.0 -14857094359.377\n",
      "207            E2_Debt/contract relief_1.0 -14857094358.748\n",
      "208            E2_Debt/contract relief_2.0 -14857094358.413\n",
      "..                                     ...              ...\n",
      "8                     EconomicSupportIndex           40.637\n",
      "1                       E3_Fiscal measures            0.052\n",
      "3    H4_Emergency investment in healthcare           -0.041\n",
      "4                H5_Investment in vaccines            0.013\n",
      "2                 E4_International support            0.009\n",
      "\n",
      "[219 rows x 2 columns]\n"
     ]
    },
    {
     "data": {
      "image/png": "[encoded data removed]",
      "text/plain": [
       "<Figure size 432x288 with 1 Axes>"
      ]
     },
     "metadata": {
      "needs_background": "light"
     },
     "output_type": "display_data"
    },
    {
     "name": "stdout",
     "output_type": "stream",
     "text": [
      "Linear Regression: Features with highest magnitude                                coefficients in absolute value\n",
      "                                 Feature      Coefficient\n",
      "0                              Intercept  37878717510.283\n",
      "164     Country_United States of America  15043831604.722\n",
      "206          E2_Debt/contract relief_0.0 -14857094359.377\n",
      "207          E2_Debt/contract relief_1.0 -14857094358.748\n",
      "208          E2_Debt/contract relief_2.0 -14857094358.413\n",
      "216               H3_Contact tracing_0.0 -11950503144.087\n",
      "217               H3_Contact tracing_1.0 -11950503050.406\n",
      "218               H3_Contact tracing_2.0 -11950502957.001\n",
      "211  H1_Public information campaigns_2.0  11039803636.288\n",
      "210  H1_Public information campaigns_1.0  11039803636.075\n",
      "\n",
      "Bias: 1117608.13\n",
      "Root Mean squared error: 5082.60\n",
      "RSS: 54584855570.83\n",
      "Variance score: -0.01\n",
      "\n",
      "R2 score: 0.04\n",
      "\n",
      "Cutting dataframe on date: 2020-04-21\n",
      "Success: Features match\n",
      "Success: No NAs remain\n",
      "                           Feature  Coefficient\n",
      "0                        Intercept        0.765\n",
      "19   Days Elapsed Since First Case        0.021\n",
      "137                Country_Senegal       -0.000\n",
      "139             Country_Seychelles       -0.000\n",
      "140           Country_Sierra Leone        0.000\n",
      "..                             ...          ...\n",
      "77               Country_Guatemala       -0.000\n",
      "78                  Country_Guinea       -0.000\n",
      "79                   Country_Haiti       -0.000\n",
      "80                Country_Honduras       -0.000\n",
      "218         H3_Contact tracing_2.0       -0.000\n",
      "\n",
      "[219 rows x 2 columns]\n"
     ]
    },
    {
     "data": {
      "image/png": "[encoded data removed]",
      "text/plain": [
       "<Figure size 432x288 with 1 Axes>"
      ]
     },
     "metadata": {
      "needs_background": "light"
     },
     "output_type": "display_data"
    },
    {
     "name": "stdout",
     "output_type": "stream",
     "text": [
      "Lasso: Features with highest magnitude                                coefficients in absolute value\n",
      "                           Feature  Coefficient\n",
      "0                        Intercept        0.765\n",
      "19   Days Elapsed Since First Case        0.021\n",
      "137                Country_Senegal       -0.000\n",
      "139             Country_Seychelles       -0.000\n",
      "140           Country_Sierra Leone        0.000\n",
      "141              Country_Singapore       -0.000\n",
      "142        Country_Slovak Republic       -0.000\n",
      "143               Country_Slovenia        0.000\n",
      "144           Country_South Africa       -0.000\n",
      "145            Country_South Korea        0.000\n",
      "\n",
      "Bias: 415629.94\n",
      "Root Mean squared error: 4033.35\n",
      "RSS: 34455473669.12\n",
      "Variance score: -0.01\n",
      "\n",
      "R2 score: -0.05\n",
      "\n",
      "                              Feature  Coefficient\n",
      "0                           Intercept        4.704\n",
      "85                       Country_Iran        1.868\n",
      "89                      Country_Italy        1.560\n",
      "83                      Country_India       -1.388\n",
      "118               Country_New Zealand       -1.330\n",
      "..                                ...          ...\n",
      "18                          Day Count        0.002\n",
      "13                    Life Expectancy       -0.001\n",
      "132                     Country_Qatar        0.001\n",
      "47   Country_Central African Republic        0.001\n",
      "104                Country_Madagascar       -0.000\n",
      "\n",
      "[219 rows x 2 columns]\n"
     ]
    },
    {
     "data": {
      "image/png": "[encoded data removed]",
      "text/plain": [
       "<Figure size 432x288 with 1 Axes>"
      ]
     },
     "metadata": {
      "needs_background": "light"
     },
     "output_type": "display_data"
    },
    {
     "name": "stdout",
     "output_type": "stream",
     "text": [
      "Ridge: Features with highest magnitude                                coefficients in absolute value\n",
      "                              Feature  Coefficient\n",
      "0                           Intercept        4.704\n",
      "85                       Country_Iran        1.868\n",
      "89                      Country_Italy        1.560\n",
      "83                      Country_India       -1.388\n",
      "118               Country_New Zealand       -1.330\n",
      "205             E1_Income support_2.0        1.294\n",
      "50                      Country_China        1.237\n",
      "164  Country_United States of America       -1.122\n",
      "203             E1_Income support_0.0       -1.043\n",
      "168                   Country_Vietnam       -0.969\n",
      "\n",
      "Bias: 415171.35\n",
      "Root Mean squared error: 3898.24\n",
      "RSS: 32185723637.23\n",
      "Variance score: -0.01\n",
      "\n",
      "R2 score: 0.02\n",
      "\n",
      "                                   Feature     Coefficient\n",
      "164       Country_United States of America  3285722161.676\n",
      "0                                Intercept -2632505939.206\n",
      "208            E2_Debt/contract relief_2.0  2519091045.613\n",
      "207            E2_Debt/contract relief_1.0  2519091045.265\n",
      "206            E2_Debt/contract relief_0.0  2519091044.850\n",
      "..                                     ...             ...\n",
      "8                     EconomicSupportIndex          43.186\n",
      "1                       E3_Fiscal measures           0.064\n",
      "3    H4_Emergency investment in healthcare          -0.047\n",
      "4                H5_Investment in vaccines           0.018\n",
      "2                 E4_International support           0.011\n",
      "\n",
      "[219 rows x 2 columns]\n"
     ]
    },
    {
     "data": {
      "image/png": "[encoded data removed]",
      "text/plain": [
       "<Figure size 432x288 with 1 Axes>"
      ]
     },
     "metadata": {
      "needs_background": "light"
     },
     "output_type": "display_data"
    },
    {
     "name": "stdout",
     "output_type": "stream",
     "text": [
      "Linear Regression: Features with highest magnitude                                coefficients in absolute value\n",
      "                                 Feature     Coefficient\n",
      "164     Country_United States of America  3285722161.676\n",
      "0                              Intercept -2632505939.206\n",
      "208          E2_Debt/contract relief_2.0  2519091045.613\n",
      "207          E2_Debt/contract relief_1.0  2519091045.265\n",
      "206          E2_Debt/contract relief_0.0  2519091044.850\n",
      "50                         Country_China  2044152176.318\n",
      "151                  Country_Switzerland -1875376471.408\n",
      "83                         Country_India -1825782525.928\n",
      "103                   Country_Luxembourg -1479690383.812\n",
      "211  H1_Public information campaigns_2.0  1362124830.014\n",
      "\n",
      "Bias: 415166.10\n",
      "Root Mean squared error: 3900.86\n",
      "RSS: 32228966658.73\n",
      "Variance score: -0.01\n",
      "\n",
      "R2 score: 0.02\n",
      "\n"
     ]
    }
   ],
   "source": [
    "weeks_for_cv = [0,1,2,3,4,5,6]\n",
    "n_weeks_prediction = 2\n",
    "results = {}\n",
    "for i in weeks_for_cv:\n",
    "    shorter_df = pipeline.cut_df_on_weeks(df, i)\n",
    "    df_train, df_test = pipeline.split_and_scale_on_last_weeks(shorter_df, n_weeks_prediction)\n",
    "    pipeline.sanity_check(df_train, df_test)\n",
    "    X_train, y_train = pipeline.divide_target_and_features(df_train, 'log_cases')\n",
    "    X_test, y_test = pipeline.divide_target_and_features(df_test, 'log_cases')\n",
    "    dct = pipeline.train_and_evaluate(X_train, y_train, X_test, y_test)\n",
    "    results['Until week: ' +str(i)] = dct"
   ]
  },
  {
   "cell_type": "code",
   "execution_count": 23,
   "metadata": {},
   "outputs": [
    {
     "data": {
      "text/html": [
       "<div>\n",
       "<style scoped>\n",
       "    .dataframe tbody tr th:only-of-type {\n",
       "        vertical-align: middle;\n",
       "    }\n",
       "\n",
       "    .dataframe tbody tr th {\n",
       "        vertical-align: top;\n",
       "    }\n",
       "\n",
       "    .dataframe thead th {\n",
       "        text-align: right;\n",
       "    }\n",
       "</style>\n",
       "<table border=\"1\" class=\"dataframe\">\n",
       "  <thead>\n",
       "    <tr style=\"text-align: right;\">\n",
       "      <th></th>\n",
       "      <th>Lasso</th>\n",
       "      <th>Ridge</th>\n",
       "      <th>Linear Regression</th>\n",
       "    </tr>\n",
       "  </thead>\n",
       "  <tbody>\n",
       "    <tr>\n",
       "      <th>0</th>\n",
       "      <td>11379.131</td>\n",
       "      <td>10371.992</td>\n",
       "      <td>10326.610</td>\n",
       "    </tr>\n",
       "    <tr>\n",
       "      <th>1</th>\n",
       "      <td>9381.048</td>\n",
       "      <td>8977.888</td>\n",
       "      <td>8900.037</td>\n",
       "    </tr>\n",
       "    <tr>\n",
       "      <th>2</th>\n",
       "      <td>8515.918</td>\n",
       "      <td>7690.726</td>\n",
       "      <td>7675.781</td>\n",
       "    </tr>\n",
       "    <tr>\n",
       "      <th>3</th>\n",
       "      <td>7589.999</td>\n",
       "      <td>6988.360</td>\n",
       "      <td>6971.824</td>\n",
       "    </tr>\n",
       "    <tr>\n",
       "      <th>4</th>\n",
       "      <td>6523.794</td>\n",
       "      <td>6131.036</td>\n",
       "      <td>6119.985</td>\n",
       "    </tr>\n",
       "    <tr>\n",
       "      <th>5</th>\n",
       "      <td>5330.411</td>\n",
       "      <td>5087.658</td>\n",
       "      <td>5082.605</td>\n",
       "    </tr>\n",
       "    <tr>\n",
       "      <th>6</th>\n",
       "      <td>4033.352</td>\n",
       "      <td>3898.241</td>\n",
       "      <td>3900.859</td>\n",
       "    </tr>\n",
       "  </tbody>\n",
       "</table>\n",
       "</div>"
      ],
      "text/plain": [
       "      Lasso     Ridge Linear Regression\n",
       "0 11379.131 10371.992         10326.610\n",
       "1  9381.048  8977.888          8900.037\n",
       "2  8515.918  7690.726          7675.781\n",
       "3  7589.999  6988.360          6971.824\n",
       "4  6523.794  6131.036          6119.985\n",
       "5  5330.411  5087.658          5082.605\n",
       "6  4033.352  3898.241          3900.859"
      ]
     },
     "execution_count": 23,
     "metadata": {},
     "output_type": "execute_result"
    }
   ],
   "source": [
    "# summarizing time seried nested Cross Validation: \n",
    "\n",
    "metrics_rmse = pd.DataFrame(columns=['Lasso','Ridge','Linear Regression'])\n",
    "for i, mkey in enumerate(results):\n",
    "    for key in results[mkey]:\n",
    "        metrics_rmse.loc[i,key] = results[mkey][key][1]\n",
    "metrics_rmse"
   ]
  },
  {
   "cell_type": "code",
   "execution_count": 24,
   "metadata": {},
   "outputs": [
    {
     "data": {
      "text/html": [
       "<div>\n",
       "<style scoped>\n",
       "    .dataframe tbody tr th:only-of-type {\n",
       "        vertical-align: middle;\n",
       "    }\n",
       "\n",
       "    .dataframe tbody tr th {\n",
       "        vertical-align: top;\n",
       "    }\n",
       "\n",
       "    .dataframe thead th {\n",
       "        text-align: right;\n",
       "    }\n",
       "</style>\n",
       "<table border=\"1\" class=\"dataframe\">\n",
       "  <thead>\n",
       "    <tr style=\"text-align: right;\">\n",
       "      <th></th>\n",
       "      <th>Lasso</th>\n",
       "      <th>Ridge</th>\n",
       "      <th>Linear Regression</th>\n",
       "      <th>Lasso_k_fold</th>\n",
       "      <th>Ridge_k_fold</th>\n",
       "      <th>LR_k_fold</th>\n",
       "      <th>Decision Tree Regression</th>\n",
       "      <th>Random Forest Regression</th>\n",
       "    </tr>\n",
       "    <tr>\n",
       "      <th>outcome</th>\n",
       "      <th></th>\n",
       "      <th></th>\n",
       "      <th></th>\n",
       "      <th></th>\n",
       "      <th></th>\n",
       "      <th></th>\n",
       "      <th></th>\n",
       "      <th></th>\n",
       "    </tr>\n",
       "  </thead>\n",
       "  <tbody>\n",
       "    <tr>\n",
       "      <th>Confirmed Cases</th>\n",
       "      <td>164190.722</td>\n",
       "      <td>188761.956</td>\n",
       "      <td>197947.954</td>\n",
       "      <td>106774.577</td>\n",
       "      <td>94986.818</td>\n",
       "      <td>96834.840</td>\n",
       "      <td>25800.884</td>\n",
       "      <td>26285.324</td>\n",
       "    </tr>\n",
       "    <tr>\n",
       "      <th>Deaths</th>\n",
       "      <td>11379.131</td>\n",
       "      <td>10371.992</td>\n",
       "      <td>10326.610</td>\n",
       "      <td>7536.236</td>\n",
       "      <td>7020.843</td>\n",
       "      <td>6996.814</td>\n",
       "      <td>nan</td>\n",
       "      <td>nan</td>\n",
       "    </tr>\n",
       "  </tbody>\n",
       "</table>\n",
       "</div>"
      ],
      "text/plain": [
       "                     Lasso      Ridge  Linear Regression  Lasso_k_fold  \\\n",
       "outcome                                                                  \n",
       "Confirmed Cases 164190.722 188761.956         197947.954    106774.577   \n",
       "Deaths           11379.131  10371.992          10326.610      7536.236   \n",
       "\n",
       "                 Ridge_k_fold  LR_k_fold  Decision Tree Regression  \\\n",
       "outcome                                                              \n",
       "Confirmed Cases     94986.818  96834.840                 25800.884   \n",
       "Deaths               7020.843   6996.814                       nan   \n",
       "\n",
       "                 Random Forest Regression  \n",
       "outcome                                    \n",
       "Confirmed Cases                 26285.324  \n",
       "Deaths                                nan  "
      ]
     },
     "execution_count": 24,
     "metadata": {},
     "output_type": "execute_result"
    }
   ],
   "source": [
    "Evalution_RMSE.loc['Deaths','Lasso_k_fold'] = metrics_rmse['Lasso'].mean()\n",
    "Evalution_RMSE.loc['Deaths','Ridge_k_fold'] = metrics_rmse['Ridge'].mean()\n",
    "Evalution_RMSE.loc['Deaths','LR_k_fold'] = metrics_rmse['Linear Regression'].mean()\n",
    "Evalution_RMSE"
   ]
  },
  {
   "cell_type": "markdown",
   "metadata": {},
   "source": [
    "### 3.2.3 : Decision Tress Regression"
   ]
  },
  {
   "cell_type": "code",
   "execution_count": 25,
   "metadata": {},
   "outputs": [
    {
     "name": "stdout",
     "output_type": "stream",
     "text": [
      "Success: Features match\n",
      "Success: No NAs remain\n"
     ]
    }
   ],
   "source": [
    "## df for deaths\n",
    "df = pd.read_pickle(filepath)\n",
    "df['log_cases'] = df['Deaths']\n",
    "df_train, df_test = pipeline.split_and_scale_on_last_weeks(df, 2)\n",
    "pipeline.sanity_check(df_train, df_test)\n",
    "X_train, y_train_deaths = pipeline.divide_target_and_features(df_train, 'log_cases')\n",
    "X_test, y_test_deaths = pipeline.divide_target_and_features(df_test, 'log_cases')"
   ]
  },
  {
   "cell_type": "code",
   "execution_count": 26,
   "metadata": {},
   "outputs": [
    {
     "name": "stdout",
     "output_type": "stream",
     "text": [
      "Bias: 0.00\n",
      "Root Mean squared error: 2993.15\n",
      "RSS: 13626554860.00\n",
      "Variance score: 1.00\n",
      "\n",
      "R2 score: 0.93\n",
      "\n"
     ]
    },
    {
     "data": {
      "text/plain": [
       "(0.0, 2993.149625583532, 13626554860.0, 1.0, 0.9274650554857545)"
      ]
     },
     "execution_count": 26,
     "metadata": {},
     "output_type": "execute_result"
    }
   ],
   "source": [
    "dtr = DecisionTreeRegressor()\n",
    "dtr.fit(X_train, y_train_deaths)\n",
    "y_pred_deaths = dtr.predict(X_test)\n",
    "pipeline.metrics(y_pred_deaths, y_test_deaths, X_train, y_train_deaths, dtr)"
   ]
  },
  {
   "cell_type": "code",
   "execution_count": 27,
   "metadata": {},
   "outputs": [],
   "source": [
    "# making prediction and saving it to a pickle file\n",
    "predictions = pipeline.predictions_every_country(X_test.columns[19:169], X_test, y_pred_deaths, y_test_deaths)\n",
    "predictions.to_pickle(\"../predictions/deaths_dtr.pkl\")"
   ]
  },
  {
   "cell_type": "code",
   "execution_count": 28,
   "metadata": {},
   "outputs": [
    {
     "name": "stdout",
     "output_type": "stream",
     "text": [
      "Bias: 0.00\n",
      "Root Mean squared error: 2993.15\n",
      "RSS: 13626554860.00\n",
      "Variance score: 1.00\n",
      "\n",
      "R2 score: 0.93\n",
      "\n"
     ]
    },
    {
     "data": {
      "text/html": [
       "<div>\n",
       "<style scoped>\n",
       "    .dataframe tbody tr th:only-of-type {\n",
       "        vertical-align: middle;\n",
       "    }\n",
       "\n",
       "    .dataframe tbody tr th {\n",
       "        vertical-align: top;\n",
       "    }\n",
       "\n",
       "    .dataframe thead th {\n",
       "        text-align: right;\n",
       "    }\n",
       "</style>\n",
       "<table border=\"1\" class=\"dataframe\">\n",
       "  <thead>\n",
       "    <tr style=\"text-align: right;\">\n",
       "      <th></th>\n",
       "      <th>Lasso</th>\n",
       "      <th>Ridge</th>\n",
       "      <th>Linear Regression</th>\n",
       "      <th>Lasso_k_fold</th>\n",
       "      <th>Ridge_k_fold</th>\n",
       "      <th>LR_k_fold</th>\n",
       "      <th>Decision Tree Regression</th>\n",
       "      <th>Random Forest Regression</th>\n",
       "    </tr>\n",
       "    <tr>\n",
       "      <th>outcome</th>\n",
       "      <th></th>\n",
       "      <th></th>\n",
       "      <th></th>\n",
       "      <th></th>\n",
       "      <th></th>\n",
       "      <th></th>\n",
       "      <th></th>\n",
       "      <th></th>\n",
       "    </tr>\n",
       "  </thead>\n",
       "  <tbody>\n",
       "    <tr>\n",
       "      <th>Confirmed Cases</th>\n",
       "      <td>164190.722</td>\n",
       "      <td>188761.956</td>\n",
       "      <td>197947.954</td>\n",
       "      <td>106774.577</td>\n",
       "      <td>94986.818</td>\n",
       "      <td>96834.840</td>\n",
       "      <td>25800.884</td>\n",
       "      <td>26285.324</td>\n",
       "    </tr>\n",
       "    <tr>\n",
       "      <th>Deaths</th>\n",
       "      <td>11379.131</td>\n",
       "      <td>10371.992</td>\n",
       "      <td>10326.610</td>\n",
       "      <td>7536.236</td>\n",
       "      <td>7020.843</td>\n",
       "      <td>6996.814</td>\n",
       "      <td>2993.150</td>\n",
       "      <td>nan</td>\n",
       "    </tr>\n",
       "  </tbody>\n",
       "</table>\n",
       "</div>"
      ],
      "text/plain": [
       "                     Lasso      Ridge  Linear Regression  Lasso_k_fold  \\\n",
       "outcome                                                                  \n",
       "Confirmed Cases 164190.722 188761.956         197947.954    106774.577   \n",
       "Deaths           11379.131  10371.992          10326.610      7536.236   \n",
       "\n",
       "                 Ridge_k_fold  LR_k_fold  Decision Tree Regression  \\\n",
       "outcome                                                              \n",
       "Confirmed Cases     94986.818  96834.840                 25800.884   \n",
       "Deaths               7020.843   6996.814                  2993.150   \n",
       "\n",
       "                 Random Forest Regression  \n",
       "outcome                                    \n",
       "Confirmed Cases                 26285.324  \n",
       "Deaths                                nan  "
      ]
     },
     "execution_count": 28,
     "metadata": {},
     "output_type": "execute_result"
    }
   ],
   "source": [
    "metrics = pipeline.metrics(y_pred_deaths, y_test_deaths, X_train, y_train_deaths, dtr)\n",
    "Evalution_RMSE.loc['Deaths','Decision Tree Regression'] = metrics[1]\n",
    "Evalution_RMSE"
   ]
  },
  {
   "cell_type": "markdown",
   "metadata": {},
   "source": [
    "### 3.1.4 : Random Forest Regression "
   ]
  },
  {
   "cell_type": "code",
   "execution_count": 29,
   "metadata": {},
   "outputs": [
    {
     "name": "stdout",
     "output_type": "stream",
     "text": [
      "Bias: 1220.88\n",
      "Root Mean squared error: 2075.76\n",
      "RSS: 6553678642.38\n",
      "Variance score: 1.00\n",
      "\n",
      "R2 score: 0.97\n",
      "\n"
     ]
    }
   ],
   "source": [
    "# Deaths\n",
    "rf = RandomForestRegressor(random_state=0)\n",
    "rf.fit(X_train, y_train_deaths)\n",
    "y_pred_deaths = rf.predict(X_test)\n",
    "metrics = pipeline.metrics(y_pred_deaths, y_test_deaths, X_train, y_train_deaths, rf)"
   ]
  },
  {
   "cell_type": "code",
   "execution_count": 30,
   "metadata": {},
   "outputs": [],
   "source": [
    "# making prediction and saving it to a pickle file\n",
    "predictions = pipeline.predictions_every_country(X_test.columns[19:169], X_test, y_pred_deaths, y_test_deaths)\n",
    "predictions.to_pickle(\"../predictions/deaths_rf.pkl\")"
   ]
  },
  {
   "cell_type": "code",
   "execution_count": 31,
   "metadata": {},
   "outputs": [
    {
     "data": {
      "text/html": [
       "<div>\n",
       "<style scoped>\n",
       "    .dataframe tbody tr th:only-of-type {\n",
       "        vertical-align: middle;\n",
       "    }\n",
       "\n",
       "    .dataframe tbody tr th {\n",
       "        vertical-align: top;\n",
       "    }\n",
       "\n",
       "    .dataframe thead th {\n",
       "        text-align: right;\n",
       "    }\n",
       "</style>\n",
       "<table border=\"1\" class=\"dataframe\">\n",
       "  <thead>\n",
       "    <tr style=\"text-align: right;\">\n",
       "      <th></th>\n",
       "      <th>Lasso</th>\n",
       "      <th>Ridge</th>\n",
       "      <th>Linear Regression</th>\n",
       "      <th>Lasso_k_fold</th>\n",
       "      <th>Ridge_k_fold</th>\n",
       "      <th>LR_k_fold</th>\n",
       "      <th>Decision Tree Regression</th>\n",
       "      <th>Random Forest Regression</th>\n",
       "    </tr>\n",
       "    <tr>\n",
       "      <th>outcome</th>\n",
       "      <th></th>\n",
       "      <th></th>\n",
       "      <th></th>\n",
       "      <th></th>\n",
       "      <th></th>\n",
       "      <th></th>\n",
       "      <th></th>\n",
       "      <th></th>\n",
       "    </tr>\n",
       "  </thead>\n",
       "  <tbody>\n",
       "    <tr>\n",
       "      <th>Confirmed Cases</th>\n",
       "      <td>164190.722</td>\n",
       "      <td>188761.956</td>\n",
       "      <td>197947.954</td>\n",
       "      <td>106774.577</td>\n",
       "      <td>94986.818</td>\n",
       "      <td>96834.840</td>\n",
       "      <td>25800.884</td>\n",
       "      <td>26285.324</td>\n",
       "    </tr>\n",
       "    <tr>\n",
       "      <th>Deaths</th>\n",
       "      <td>11379.131</td>\n",
       "      <td>10371.992</td>\n",
       "      <td>10326.610</td>\n",
       "      <td>7536.236</td>\n",
       "      <td>7020.843</td>\n",
       "      <td>6996.814</td>\n",
       "      <td>2993.150</td>\n",
       "      <td>2075.764</td>\n",
       "    </tr>\n",
       "  </tbody>\n",
       "</table>\n",
       "</div>"
      ],
      "text/plain": [
       "                     Lasso      Ridge  Linear Regression  Lasso_k_fold  \\\n",
       "outcome                                                                  \n",
       "Confirmed Cases 164190.722 188761.956         197947.954    106774.577   \n",
       "Deaths           11379.131  10371.992          10326.610      7536.236   \n",
       "\n",
       "                 Ridge_k_fold  LR_k_fold  Decision Tree Regression  \\\n",
       "outcome                                                              \n",
       "Confirmed Cases     94986.818  96834.840                 25800.884   \n",
       "Deaths               7020.843   6996.814                  2993.150   \n",
       "\n",
       "                 Random Forest Regression  \n",
       "outcome                                    \n",
       "Confirmed Cases                 26285.324  \n",
       "Deaths                           2075.764  "
      ]
     },
     "execution_count": 31,
     "metadata": {},
     "output_type": "execute_result"
    }
   ],
   "source": [
    "Evalution_RMSE.loc['Deaths','Random Forest Regression'] = metrics[1]\n",
    "Evalution_RMSE"
   ]
  },
  {
   "cell_type": "markdown",
   "metadata": {},
   "source": [
    "### 3.2.5 : Conclusion "
   ]
  },
  {
   "cell_type": "code",
   "execution_count": 32,
   "metadata": {},
   "outputs": [
    {
     "data": {
      "text/plain": [
       "<matplotlib.axes._subplots.AxesSubplot at 0x1a1faafb50>"
      ]
     },
     "execution_count": 32,
     "metadata": {},
     "output_type": "execute_result"
    },
    {
     "data": {
      "image/png": "[encoded data removed]",
      "text/plain": [
       "<Figure size 432x288 with 1 Axes>"
      ]
     },
     "metadata": {
      "needs_background": "light"
     },
     "output_type": "display_data"
    }
   ],
   "source": [
    "Evalution_RMSE.transpose().plot.bar(y='Deaths')"
   ]
  },
  {
   "cell_type": "code",
   "execution_count": 33,
   "metadata": {},
   "outputs": [],
   "source": [
    "Evalution_RMSE.to_pickle(\"../predictions/Evaluation_RMSE.pkl\")"
   ]
  },
  {
   "cell_type": "markdown",
   "metadata": {},
   "source": [
    "- Random Forest has the lowest RMSE. "
   ]
  },
  {
   "cell_type": "markdown",
   "metadata": {},
   "source": [
    "## 4. Potential policy outcomes  \n",
    "### 4.1 : predicting Deaths with the most strict vs most loose lockdown policy"
   ]
  },
  {
   "cell_type": "code",
   "execution_count": 34,
   "metadata": {
    "scrolled": true
   },
   "outputs": [
    {
     "data": {
      "text/html": [
       "<div>\n",
       "<style scoped>\n",
       "    .dataframe tbody tr th:only-of-type {\n",
       "        vertical-align: middle;\n",
       "    }\n",
       "\n",
       "    .dataframe tbody tr th {\n",
       "        vertical-align: top;\n",
       "    }\n",
       "\n",
       "    .dataframe thead th {\n",
       "        text-align: right;\n",
       "    }\n",
       "</style>\n",
       "<table border=\"1\" class=\"dataframe\">\n",
       "  <thead>\n",
       "    <tr style=\"text-align: right;\">\n",
       "      <th></th>\n",
       "      <th>feature_importance</th>\n",
       "    </tr>\n",
       "    <tr>\n",
       "      <th>feature</th>\n",
       "      <th></th>\n",
       "    </tr>\n",
       "  </thead>\n",
       "  <tbody>\n",
       "    <tr>\n",
       "      <th>Days Elapsed Since First Case</th>\n",
       "      <td>0.237</td>\n",
       "    </tr>\n",
       "    <tr>\n",
       "      <th>GDP</th>\n",
       "      <td>0.179</td>\n",
       "    </tr>\n",
       "    <tr>\n",
       "      <th>Country_United States of America</th>\n",
       "      <td>0.114</td>\n",
       "    </tr>\n",
       "    <tr>\n",
       "      <th>Day Count</th>\n",
       "      <td>0.111</td>\n",
       "    </tr>\n",
       "    <tr>\n",
       "      <th>Diabetes Prevalence</th>\n",
       "      <td>0.110</td>\n",
       "    </tr>\n",
       "    <tr>\n",
       "      <th>Current Health Expenditure Per Capita, PPP</th>\n",
       "      <td>0.105</td>\n",
       "    </tr>\n",
       "    <tr>\n",
       "      <th>Country_Spain</th>\n",
       "      <td>0.064</td>\n",
       "    </tr>\n",
       "    <tr>\n",
       "      <th>Population</th>\n",
       "      <td>0.019</td>\n",
       "    </tr>\n",
       "    <tr>\n",
       "      <th>Country_Italy</th>\n",
       "      <td>0.009</td>\n",
       "    </tr>\n",
       "    <tr>\n",
       "      <th>Share Pop 65+</th>\n",
       "      <td>0.005</td>\n",
       "    </tr>\n",
       "  </tbody>\n",
       "</table>\n",
       "</div>"
      ],
      "text/plain": [
       "                                            feature_importance\n",
       "feature                                                       \n",
       "Days Elapsed Since First Case                            0.237\n",
       "GDP                                                      0.179\n",
       "Country_United States of America                         0.114\n",
       "Day Count                                                0.111\n",
       "Diabetes Prevalence                                      0.110\n",
       "Current Health Expenditure Per Capita, PPP               0.105\n",
       "Country_Spain                                            0.064\n",
       "Population                                               0.019\n",
       "Country_Italy                                            0.009\n",
       "Share Pop 65+                                            0.005"
      ]
     },
     "execution_count": 34,
     "metadata": {},
     "output_type": "execute_result"
    }
   ],
   "source": [
    "# important features\n",
    "features = pd.DataFrame({'feature': X_train.columns,\n",
    "             'feature_importance': rf.feature_importances_})\n",
    "features = features.set_index('feature')\n",
    "#features.plot(kind='bar')\n",
    "pd.options.display.max_rows = None\n",
    "features.sort_values('feature_importance', ascending=False).head(10)"
   ]
  },
  {
   "cell_type": "code",
   "execution_count": 35,
   "metadata": {},
   "outputs": [],
   "source": [
    "# Scenario 1: Really strict lockdown\n",
    "# Making a really strict lockdown policy in all measures\n",
    "\n",
    "# preparing a test dataset assuming a very strict policy \n",
    "# school closing \n",
    "X_test.loc[:,'C1_School closing_0.0'] = 0 \n",
    "X_test.loc[:,'C1_School closing_1.0'] = 0 \n",
    "X_test.loc[:,'C1_School closing_2.0'] = 0\n",
    "X_test.loc[:,'C1_School closing_3.0'] = 1\n",
    "#\n",
    "X_test.loc[:,'C2_Workplace closing_0.0'] = 0\n",
    "X_test.loc[:,'C2_Workplace closing_1.0'] = 0\n",
    "X_test.loc[:,'C2_Workplace closing_2.0'] = 0\n",
    "X_test.loc[:,'C2_Workplace closing_3.0'] = 1\n",
    "#\n",
    "X_test.loc[:,'C3_Cancel public events_0.0'] = 0\n",
    "X_test.loc[:,'C3_Cancel public events_1.0'] = 0\n",
    "X_test.loc[:,'C3_Cancel public events_2.0'] = 1\n",
    "#\n",
    "X_test.loc[:,'C4_Restrictions on gatherings_0.0'] = 0\n",
    "X_test.loc[:,'C4_Restrictions on gatherings_1.0'] = 0\n",
    "X_test.loc[:,'C4_Restrictions on gatherings_2.0'] = 0\n",
    "X_test.loc[:,'C4_Restrictions on gatherings_3.0'] = 0\n",
    "X_test.loc[:,'C4_Restrictions on gatherings_4.0'] = 1\n",
    "#\n",
    "X_test.loc[:,'C5_Close public transport_0.0'] = 0\n",
    "X_test.loc[:,'C5_Close public transport_1.0'] = 0\n",
    "X_test.loc[:,'C5_Close public transport_2.0'] = 1\n",
    "#\n",
    "X_test.loc[:,'C6_Stay at home requirements_0.0'] = 0\n",
    "X_test.loc[:,'C6_Stay at home requirements_1.0'] = 0\n",
    "X_test.loc[:,'C6_Stay at home requirements_2.0'] = 0\n",
    "X_test.loc[:,'C6_Stay at home requirements_3.0'] = 1\n",
    "#\n",
    "X_test.loc[:,'C7_Restrictions on internal movement_0.0'] = 0\n",
    "X_test.loc[:,'C7_Restrictions on internal movement_1.0'] = 0\n",
    "X_test.loc[:,'C7_Restrictions on internal movement_2.0'] = 1\n",
    "#\n",
    "X_test.loc[:,'C8_International travel controls_0.0'] = 0\n",
    "X_test.loc[:,'C8_International travel controls_1.0'] = 0\n",
    "X_test.loc[:,'C8_International travel controls_2.0'] = 0\n",
    "X_test.loc[:,'C8_International travel controls_3.0'] = 0\n",
    "X_test.loc[:,'C8_International travel controls_4.0'] = 1\n",
    "#\n",
    "X_test.loc[:,'StringencyIndex'] = 100\n",
    "X_test.loc[:,'GovernmentResponseIndex'] = 100 \n",
    "X_test.loc[:,'ContainmentHealthIndex'] = 100\n",
    "X_test.loc[:,'EconomicSupportIndex'] = 100\n",
    "\n",
    "# prediction\n",
    "y_pred_deaths = rf.predict(X_test)\n",
    "\n",
    "#predicting deaths\n",
    "predictions = pipeline.predictions_every_country(X_test.columns[19:169], X_test, y_pred_deaths, y_test_deaths)\n",
    "predictions.to_pickle(\"../predictions/deaths_rf_max_stringency.pkl\")\n",
    "\n",
    "# predicting with Linear Model\n",
    "from sklearn import linear_model\n",
    "lreg = linear_model.LinearRegression()\n",
    "lreg.fit(X_train, y_train_deaths)\n",
    "y_pred_deaths_lr = lreg.predict(X_test)\n",
    "predictions = pipeline.predictions_every_country(X_test.columns[19:169], X_test, y_pred_deaths_lr, y_test_deaths)\n",
    "predictions.to_pickle(\"../predictions/deaths_lr_max_strignency.pkl\")"
   ]
  },
  {
   "cell_type": "code",
   "execution_count": 36,
   "metadata": {},
   "outputs": [],
   "source": [
    "\n",
    "# Another Scenario: Really loose lockdowns \n",
    "# preparing a test dataset assuming a very loose policy \n",
    "\n",
    "# school closing \n",
    "X_test.loc[:,'C1_School closing_0.0'] = 1 \n",
    "X_test.loc[:,'C1_School closing_1.0'] = 0 \n",
    "X_test.loc[:,'C1_School closing_2.0'] = 0\n",
    "X_test.loc[:,'C1_School closing_3.0'] = 0\n",
    "#\n",
    "X_test.loc[:,'C2_Workplace closing_0.0'] = 1\n",
    "X_test.loc[:,'C2_Workplace closing_1.0'] = 0\n",
    "X_test.loc[:,'C2_Workplace closing_2.0'] = 0\n",
    "X_test.loc[:,'C2_Workplace closing_3.0'] = 0\n",
    "#\n",
    "X_test.loc[:,'C3_Cancel public events_0.0'] = 1\n",
    "X_test.loc[:,'C3_Cancel public events_1.0'] = 0\n",
    "X_test.loc[:,'C3_Cancel public events_2.0'] = 0\n",
    "#\n",
    "X_test.loc[:,'C4_Restrictions on gatherings_0.0'] = 1\n",
    "X_test.loc[:,'C4_Restrictions on gatherings_1.0'] = 0\n",
    "X_test.loc[:,'C4_Restrictions on gatherings_2.0'] = 0\n",
    "X_test.loc[:,'C4_Restrictions on gatherings_3.0'] = 0\n",
    "X_test.loc[:,'C4_Restrictions on gatherings_4.0'] = 0\n",
    "#\n",
    "X_test.loc[:,'C5_Close public transport_0.0'] = 1\n",
    "X_test.loc[:,'C5_Close public transport_1.0'] = 0\n",
    "X_test.loc[:,'C5_Close public transport_2.0'] = 0\n",
    "#\n",
    "X_test.loc[:,'C6_Stay at home requirements_0.0'] = 1\n",
    "X_test.loc[:,'C6_Stay at home requirements_1.0'] = 0\n",
    "X_test.loc[:,'C6_Stay at home requirements_2.0'] = 0\n",
    "X_test.loc[:,'C6_Stay at home requirements_3.0'] = 0\n",
    "#\n",
    "X_test.loc[:,'C7_Restrictions on internal movement_0.0'] = 1\n",
    "X_test.loc[:,'C7_Restrictions on internal movement_1.0'] = 0\n",
    "X_test.loc[:,'C7_Restrictions on internal movement_2.0'] = 0\n",
    "#\n",
    "X_test.loc[:,'C8_International travel controls_0.0'] = 1\n",
    "X_test.loc[:,'C8_International travel controls_1.0'] = 0\n",
    "X_test.loc[:,'C8_International travel controls_2.0'] = 0\n",
    "X_test.loc[:,'C8_International travel controls_3.0'] = 0\n",
    "X_test.loc[:,'C8_International travel controls_4.0'] = 0\n",
    "#\n",
    "X_test.loc[:,'StringencyIndex'] = 0\n",
    "X_test.loc[:,'GovernmentResponseIndex'] = 0 \n",
    "X_test.loc[:,'ContainmentHealthIndex'] = 0\n",
    "X_test.loc[:,'EconomicSupportIndex'] = 0\n",
    "\n",
    "\n",
    "# prediction\n",
    "y_pred_deaths = rf.predict(X_test)\n",
    "\n",
    "#predicting deaths\n",
    "predictions = pipeline.predictions_every_country(X_test.columns[19:169], X_test, y_pred_deaths, y_test_deaths)\n",
    "predictions.to_pickle(\"../predictions/deaths_rf_min_stringency.pkl\")\n",
    "\n",
    "## predictions with linear model \n",
    "y_pred_deaths_lr = lreg.predict(X_test)\n",
    "predictions = pipeline.predictions_every_country(X_test.columns[19:169], X_test, y_pred_deaths_lr, y_test_deaths)\n",
    "predictions.to_pickle(\"../predictions/deaths_lr_min_strignency.pkl\")"
   ]
  }
 ],
 "metadata": {
  "kernelspec": {
   "display_name": "Python 3",
   "language": "python",
   "name": "python3"
  },
  "language_info": {
   "codemirror_mode": {
    "name": "ipython",
    "version": 3
   },
   "file_extension": ".py",
   "mimetype": "text/x-python",
   "name": "python",
   "nbconvert_exporter": "python",
   "pygments_lexer": "ipython3",
   "version": "3.7.4"
  }
 },
 "nbformat": 4,
 "nbformat_minor": 4
}
