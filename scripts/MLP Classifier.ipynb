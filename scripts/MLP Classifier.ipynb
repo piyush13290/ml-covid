{
 "cells": [
  {
   "cell_type": "code",
   "execution_count": 5,
   "metadata": {
    "scrolled": true
   },
   "outputs": [],
   "source": [
    "import pipeline\n",
    "import pandas as pd\n",
    "import numpy as np\n",
    "from sklearn.neural_network import MLPClassifier"
   ]
  },
  {
   "cell_type": "markdown",
   "metadata": {},
   "source": [
    "## Reading data"
   ]
  },
  {
   "cell_type": "code",
   "execution_count": 9,
   "metadata": {},
   "outputs": [],
   "source": [
    "filepath = '../data/covid_df.pkl'\n",
    "df = pd.read_pickle(filepath)\n",
    "df['log_cases'] = np.log(df['Confirmed Cases'] + 1)"
   ]
  },
  {
   "cell_type": "markdown",
   "metadata": {},
   "source": [
    "## Training MLP classifier (takes about 3 hours to train)"
   ]
  },
  {
   "cell_type": "code",
   "execution_count": 21,
   "metadata": {},
   "outputs": [
    {
     "name": "stdout",
     "output_type": "stream",
     "text": [
      "Success: Features match\n",
      "Success: No NAs remain\n"
     ]
    }
   ],
   "source": [
    "n_weeks_prediction = 2\n",
    "df_train, df_test = pipeline.split_and_scale_on_last_weeks(df, n_weeks_prediction)\n",
    "pipeline.sanity_check(df_train, df_test)\n",
    "X_train, y_train = pipeline.divide_target_and_features(df_train, 'Confirmed Cases')\n",
    "X_test, y_test = pipeline.divide_target_and_features(df_test, 'Confirmed Cases')"
   ]
  },
  {
   "cell_type": "code",
   "execution_count": null,
   "metadata": {},
   "outputs": [],
   "source": [
    "mlp = MLPClassifier(max_iter=10000)\n",
    "mlp.fit(X_train, y_train)"
   ]
  },
  {
   "cell_type": "markdown",
   "metadata": {},
   "source": [
    "## Saving classifier in a pickle"
   ]
  },
  {
   "cell_type": "code",
   "execution_count": 28,
   "metadata": {},
   "outputs": [
    {
     "name": "stdout",
     "output_type": "stream",
     "text": [
      "0.05917159763313609\n"
     ]
    }
   ],
   "source": [
    "import pickle\n",
    "pickle.dump(mlp, open(\"../trained_classifiers/mlp_cases.pkl\", 'wb'))"
   ]
  },
  {
   "cell_type": "markdown",
   "metadata": {},
   "source": [
    "## Loading model from pickle to avoid training again"
   ]
  },
  {
   "cell_type": "code",
   "execution_count": 3,
   "metadata": {},
   "outputs": [],
   "source": [
    "mlp_cases = pickle.load(open(\"../trained_classifiers/mlp_cases.pkl\", 'rb'))"
   ]
  },
  {
   "cell_type": "markdown",
   "metadata": {},
   "source": [
    "## Calculating metrics"
   ]
  },
  {
   "cell_type": "code",
   "execution_count": 12,
   "metadata": {},
   "outputs": [],
   "source": [
    "from sklearn.metrics import r2_score\n",
    "from sklearn.metrics import mean_squared_error\n",
    "y_pred = mlp_cases.predict(X_test)"
   ]
  },
  {
   "cell_type": "code",
   "execution_count": 15,
   "metadata": {},
   "outputs": [
    {
     "name": "stdout",
     "output_type": "stream",
     "text": [
      "R2 score is: 0.9714869154724224\n",
      "MSE is: 831433855.0131493\n"
     ]
    }
   ],
   "source": [
    "print(\"R2 score is: \" + str(r2_score(y_test, y_pred)))\n",
    "print(\"MSE is: \" + str(mean_squared_error(y_test, y_pred)))"
   ]
  },
  {
   "cell_type": "markdown",
   "metadata": {},
   "source": [
    "## Predicting with model"
   ]
  },
  {
   "cell_type": "code",
   "execution_count": 16,
   "metadata": {},
   "outputs": [],
   "source": [
    "predictions = pipeline.predictions_every_country(X_test.columns[19:169], X_test, y_pred, y_test)"
   ]
  },
  {
   "cell_type": "code",
   "execution_count": 20,
   "metadata": {
    "scrolled": true
   },
   "outputs": [
    {
     "data": {
      "image/png": "[encoded data removed]",
      "text/plain": [
       "<Figure size 432x288 with 1 Axes>"
      ]
     },
     "metadata": {
      "needs_background": "light"
     },
     "output_type": "display_data"
    }
   ],
   "source": [
    "pipeline.plot_real_vs_prediction(X_test, y_pred, y_test, 'Spain')"
   ]
  },
  {
   "cell_type": "markdown",
   "metadata": {},
   "source": [
    "## We save the predictions dataframe in a pickle to be used for plots later"
   ]
  },
  {
   "cell_type": "code",
   "execution_count": 23,
   "metadata": {},
   "outputs": [],
   "source": [
    "predictions.to_pickle(\"../predictions/cases_mlp.pkl\")"
   ]
  },
  {
   "cell_type": "markdown",
   "metadata": {},
   "source": [
    "## We do the same with number of deaths considering quality of data is likely better"
   ]
  },
  {
   "cell_type": "code",
   "execution_count": 24,
   "metadata": {},
   "outputs": [
    {
     "name": "stdout",
     "output_type": "stream",
     "text": [
      "R2 score is: 0.009966636696873032\n",
      "MSE is: 122281118.34516765\n"
     ]
    },
    {
     "name": "stderr",
     "output_type": "stream",
     "text": [
      "c:\\python38\\lib\\site-packages\\sklearn\\neural_network\\_multilayer_perceptron.py:587: UserWarning: Training interrupted by user.\n",
      "  warnings.warn(\"Training interrupted by user.\")\n"
     ]
    }
   ],
   "source": [
    "X_train, y_train = pipeline.divide_target_and_features(df_train, 'Deaths')\n",
    "X_test, y_test = pipeline.divide_target_and_features(df_test, 'Deaths')\n",
    "mlp_deaths = MLPClassifier()\n",
    "\n",
    "mlp_deaths.fit(X_train, y_train)\n",
    "y_pred_deaths = mlp_deaths.predict(X_test)\n",
    "\n",
    "print(\"R2 score is: \" + str(r2_score(y_test, y_pred_deaths)))\n",
    "print(\"MSE is: \" + str(mean_squared_error(y_test, y_pred_deaths)))"
   ]
  },
  {
   "cell_type": "markdown",
   "metadata": {},
   "source": [
    "## Saving pickles"
   ]
  },
  {
   "cell_type": "code",
   "execution_count": null,
   "metadata": {},
   "outputs": [],
   "source": [
    "predictions = pipeline.predictions_every_country(X_test.columns[19:169], X_test, y_pred, y_test)\n",
    "pickle.dump(mlp_deaths, open(\"../trained_classifiers/mlp_deaths.pkl\", 'wb'))\n",
    "predictions.to_pickle(\"../predictions/cases_mlp.pkl\")"
   ]
  }
 ],
 "metadata": {
  "kernelspec": {
   "display_name": "Python 3",
   "language": "python",
   "name": "python3"
  },
  "language_info": {
   "codemirror_mode": {
    "name": "ipython",
    "version": 3
   },
   "file_extension": ".py",
   "mimetype": "text/x-python",
   "name": "python",
   "nbconvert_exporter": "python",
   "pygments_lexer": "ipython3",
   "version": "3.8.3"
  }
 },
 "nbformat": 4,
 "nbformat_minor": 4
}
